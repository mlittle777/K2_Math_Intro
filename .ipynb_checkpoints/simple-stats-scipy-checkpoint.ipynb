{
 "cells": [
  {
   "cell_type": "markdown",
   "metadata": {},
   "source": [
    "# Introduction"
   ]
  },
  {
   "cell_type": "markdown",
   "metadata": {},
   "source": [
    "[Scipy](http://www.scipy.org/), and [Numpy](http://numpy.scipy.org/), provide a host of functions for performing statistical calculations. This article will describe ways of performing a few simple statistical calculations, as an introduction to using Scipy.\n",
    "\n",
    "Scipy package is organized into several sub-packages. Before using any of these sub-packages, it must be explicitly imported. For example, to use functions in the `scipy.stats` package, we must execute:"
   ]
  },
  {
   "cell_type": "code",
   "execution_count": 1,
   "metadata": {
    "collapsed": true
   },
   "outputs": [],
   "source": [
    "from scipy import stats"
   ]
  },
  {
   "cell_type": "markdown",
   "metadata": {},
   "source": [
    "Scipy is built on top of Numpy and uses Numpy arrays and data types. Hence we can use all the array manipulation and indexing methods provided by Numpy. Scipy imports all functions in the Numpy package, and several commonly used functions from sub-packages, into the top level namespace. For example, the Numpy `array` function is available as `scipy.array`. Similarly, the function `scipy.var` is the same as `numpy.var`. This means that we don’t have to explicitly import Numpy.\n",
    "\n",
    "In this notebook, we will use the [matplotlib](http://matplotlib.sourceforge.net/) library for creating plots.\n",
    "\n",
    "By convention, the top level Scipy package is imported as `sp` and the Numpy package, if needed, is imported as `np`."
   ]
  },
  {
   "cell_type": "code",
   "execution_count": 2,
   "metadata": {
    "collapsed": true
   },
   "outputs": [],
   "source": [
    "import scipy as sp\n",
    "import numpy as np"
   ]
  },
  {
   "cell_type": "markdown",
   "metadata": {},
   "source": [
    "Matplotlib is imported in the following manner:"
   ]
  },
  {
   "cell_type": "code",
   "execution_count": 3,
   "metadata": {
    "collapsed": true
   },
   "outputs": [],
   "source": [
    "import matplotlib as mpl\n",
    "from matplotlib import pyplot as plt\n",
    "%matplotlib inline"
   ]
  },
  {
   "cell_type": "markdown",
   "metadata": {},
   "source": [
    "To get help on any Scipy function or sub-package we can use the Scipy function `info`. For example, `scipy.info`(`scipy.stats`)."
   ]
  },
  {
   "cell_type": "markdown",
   "metadata": {},
   "source": [
    "# Descriptive statistics\n",
    "\n",
    "To illustrate basic functions we will use some pseudo-random numbers from a Gaussian or Normal distribution. The function `scipy.randn` can be used to generate random numbers from a standard Gaussian. This function is the same as the `numpy.random.randn` function."
   ]
  },
  {
   "cell_type": "code",
   "execution_count": 4,
   "metadata": {},
   "outputs": [
    {
     "name": "stdout",
     "output_type": "stream",
     "text": [
      "100\n"
     ]
    }
   ],
   "source": [
    "s = sp.randn(100) # Hundred random numbers from a standard Gaussian\n",
    "print(len(s))"
   ]
  },
  {
   "cell_type": "markdown",
   "metadata": {},
   "source": [
    "Since the value returned is a Numpy array we can use its methods to find descriptive statistics for the data."
   ]
  },
  {
   "cell_type": "code",
   "execution_count": 14,
   "metadata": {},
   "outputs": [
    {
     "name": "stdout",
     "output_type": "stream",
     "text": [
      "Mean :  +0.0150\n",
      "Minimum : -2.937555\n",
      "Maximum : 2.373690\n",
      "Variance : 1.267419\n",
      "Std. deviation : 1.125797\n"
     ]
    }
   ],
   "source": [
    "print(\"Mean : {0:+8.4f}\".format(s.mean()))\n",
    "print(\"Minimum : {0:8.6f}\".format(s.min()))\n",
    "print(\"Maximum : {0:8.6f}\".format(s.max()))\n",
    "print(\"Variance : {0:8.6f}\".format(s.var()))\n",
    "print(\"Std. deviation : {0:8.6f}\".format(s.std()))"
   ]
  },
  {
   "cell_type": "markdown",
   "metadata": {},
   "source": [
    "We can also use Scipy functions for performing the same calculations."
   ]
  },
  {
   "cell_type": "code",
   "execution_count": 16,
   "metadata": {},
   "outputs": [
    {
     "name": "stdout",
     "output_type": "stream",
     "text": [
      "Mean : 0.015044\n",
      "Variance : 1.267419\n",
      "Std. deviation : 1.125797\n"
     ]
    }
   ],
   "source": [
    "print(\"Mean : {0:8.6f}\".format(sp.mean(s)))\n",
    "print(\"Variance : {0:8.6f}\".format(sp.var(s)))\n",
    "print(\"Std. deviation : {0:8.6f}\".format(sp.std(s)))"
   ]
  },
  {
   "cell_type": "markdown",
   "metadata": {},
   "source": [
    "The median can be calculated using:"
   ]
  },
  {
   "cell_type": "code",
   "execution_count": 17,
   "metadata": {},
   "outputs": [
    {
     "name": "stdout",
     "output_type": "stream",
     "text": [
      "Median : -0.046320\n"
     ]
    }
   ],
   "source": [
    "print(\"Median : {0:8.6f}\".format(sp.median(s)))"
   ]
  },
  {
   "cell_type": "markdown",
   "metadata": {},
   "source": [
    "Note that both variance calculations above use N in the denominator i.e., they are biased estimators of the variance of the parent distribution. But when we are merely trying to describe the data, these are the appropriate equations to use.\n",
    "\n",
    "The `scipy.var` function takes a keyword parameter `ddof` that can be used to change the denominator. The denominator is set as `N - ddof` and by default `ddof = 0`; set `ddof = 1.0` to find the unbiased estimator of the variance of the parent distribution."
   ]
  },
  {
   "cell_type": "code",
   "execution_count": 18,
   "metadata": {},
   "outputs": [
    {
     "name": "stdout",
     "output_type": "stream",
     "text": [
      "Variance with N in denominator = 1.267419\n",
      "Variance with N - 1 in denominator = 1.280221\n"
     ]
    }
   ],
   "source": [
    "print(\"Variance with N in denominator = {0:8.6f}\".format(sp.var(s)))\n",
    "print(\"Variance with N - 1 in denominator = {0:8.6f}\".format(sp.var(s,ddof=1)))"
   ]
  },
  {
   "cell_type": "markdown",
   "metadata": {},
   "source": [
    "The `scipy.stats` sub-package has a function `describe` that will provide most of the above numbers. In this case, the variance has `N - 1` in the denominator."
   ]
  },
  {
   "cell_type": "code",
   "execution_count": 20,
   "metadata": {},
   "outputs": [
    {
     "data": {
      "text/plain": [
       "DescribeResult(nobs=100, minmax=(-2.937554985704979, 2.3736902801806026), mean=0.01504395921532293, variance=1.2802212598791425, skewness=-0.06570824724093825, kurtosis=-0.31905229527909373)"
      ]
     },
     "execution_count": 20,
     "metadata": {},
     "output_type": "execute_result"
    },
    {
     "name": "stdout",
     "output_type": "stream",
     "text": [
      "Number of elements: 100\n",
      "Minimum: -2.937555 Maximum: 2.373690\n",
      "Mean: 0.015044\n",
      "Variance: 1.280221\n",
      "Skew : -0.065708\n",
      "Kurtosis: -0.319052\n"
     ]
    }
   ],
   "source": [
    "from scipy import stats\n",
    "\n",
    "stats.describe(s)\n",
    "\n",
    "n, min_max, mean, var, skew, kurt = stats.describe(s)\n",
    "\n",
    "print(\"Number of elements: {0:d}\".format(n))\n",
    "print(\"Minimum: {0:8.6f} Maximum: {1:8.6f}\".format(min_max[0], min_max[1]))\n",
    "print(\"Mean: {0:8.6f}\".format(mean))\n",
    "print(\"Variance: {0:8.6f}\".format(var))\n",
    "print(\"Skew : {0:8.6f}\".format(skew))\n",
    "print(\"Kurtosis: {0:8.6f}\".format(kurt))"
   ]
  },
  {
   "cell_type": "markdown",
   "metadata": {},
   "source": [
    "# Probability distributions\n",
    "\n",
    "Scipy has functions that deal with several common probability distributions. Currently there are 81 continuous probability distributions and 10 discrete distributions. These are defined in the `scipy.stats` sub-package. This package also defines several statistical functions.\n",
    "\n",
    "Examples of continuous probability distributions are:\n",
    "\n",
    "- norm : Normal or Gaussian\n",
    "- chi2 : Chi-squared\n",
    "- t : Student’s T\n",
    "- uniform : Uniform\n",
    "\n",
    "Examples of discrete probability distributions are:\n",
    "\n",
    "- binom : Binomial\n",
    "- poisson : Poisson\n",
    "\n",
    "Examples of statistical functions:\n",
    "\n",
    "- mode : Modal value\n",
    "- moment : central moment\n",
    "- describe: descriptive statistics\n",
    "- histogram: histogram of data\n",
    "\n",
    "There are two ways of using probability distribution functions."
   ]
  },
  {
   "cell_type": "markdown",
   "metadata": {},
   "source": [
    "*First*. Generate a “frozen” distribution object and then work with the methods of this object. A “frozen” distribution is one with its parameters set to specific values. For example a Gaussian with mean = 3.5 and standard deviation = 2.0.\n",
    "\n",
    "To create a “frozen” Gaussian or Normal distribution with mean = 3.5 and standard deviation = 2.0 we can use."
   ]
  },
  {
   "cell_type": "code",
   "execution_count": 21,
   "metadata": {
    "collapsed": true
   },
   "outputs": [],
   "source": [
    "n = stats.norm(loc=3.5, scale=2.0)"
   ]
  },
  {
   "cell_type": "markdown",
   "metadata": {},
   "source": [
    "Then to draw a random number from this distribution we can execute:"
   ]
  },
  {
   "cell_type": "code",
   "execution_count": 24,
   "metadata": {},
   "outputs": [
    {
     "data": {
      "text/plain": [
       "5.167683917864915"
      ]
     },
     "execution_count": 24,
     "metadata": {},
     "output_type": "execute_result"
    }
   ],
   "source": [
    "n.rvs()"
   ]
  },
  {
   "cell_type": "markdown",
   "metadata": {},
   "source": [
    "For a normal distribution the keyword parameter `loc` defines the mean and the keyword parameter `scale` defines the standard deviation. For other distributions these will correspond to appropriate parameters of the distribution; the parameters needed by a distribution is specified in the docstring of the distribution, which can be viewed with the Python `help` function. For example, to view the docstring for the Poisson distribution we can use `help(stats.poisson)` or `scipy.info(stats.poisson)`. In the [iPython](http://ipython.scipy.org/) shell we can use `stats.poisson?`."
   ]
  },
  {
   "cell_type": "code",
   "execution_count": 23,
   "metadata": {
    "collapsed": true
   },
   "outputs": [],
   "source": [
    "stats.poisson?"
   ]
  },
  {
   "cell_type": "markdown",
   "metadata": {},
   "source": [
    "*Second*. Use functions in the appropriate class by always passing the parameters that define the distribution, when calling functions associated with the distribution.\n",
    "\n",
    "For example, to draw a random number from a Gaussian or Normal distribution with mean = 3.5 and standard deviation = 2.0 we can use:"
   ]
  },
  {
   "cell_type": "code",
   "execution_count": 25,
   "metadata": {},
   "outputs": [
    {
     "data": {
      "text/plain": [
       "5.4003632573879496"
      ]
     },
     "execution_count": 25,
     "metadata": {},
     "output_type": "execute_result"
    }
   ],
   "source": [
    "stats.norm.rvs(loc=3.5, scale=2.0)"
   ]
  },
  {
   "cell_type": "markdown",
   "metadata": {},
   "source": [
    "Given a probability distribution function we are interested in obtaining properties of the distribution. Functions are available for calculating the following important properties."
   ]
  },
  {
   "cell_type": "markdown",
   "metadata": {},
   "source": [
    "## Probability density function (PDF) and probability mass function (PMF)\n",
    "\n",
    "For continuous variates the `probability density function` (PDF) is proportional to the probability of the variate being in a small interval about the given value. The probability of the variate being in a finite interval is the integral of the PDF over the interval.\n",
    "\n",
    "The value of the PDF at any value of the variate can be obtained using the function pdf of the concerned distribution."
   ]
  },
  {
   "cell_type": "code",
   "execution_count": 26,
   "metadata": {},
   "outputs": [
    {
     "data": {
      "text/plain": [
       "0.3989422804014327"
      ]
     },
     "execution_count": 26,
     "metadata": {},
     "output_type": "execute_result"
    }
   ],
   "source": [
    "# PDF of Gaussian of mean = 0.0 and std. deviation = 1.0 at 0.\n",
    "stats.norm.pdf(0, loc=0.0, scale=1.0)"
   ]
  },
  {
   "cell_type": "markdown",
   "metadata": {},
   "source": [
    "We can also pass an array of values to this function, to get the PDF at the specified values of the variate:"
   ]
  },
  {
   "cell_type": "code",
   "execution_count": 27,
   "metadata": {},
   "outputs": [
    {
     "data": {
      "text/plain": [
       "array([ 0.39695255,  0.39894228,  0.39695255])"
      ]
     },
     "execution_count": 27,
     "metadata": {},
     "output_type": "execute_result"
    }
   ],
   "source": [
    "stats.norm.pdf([-0.1, 0.0, 0.1], loc=0.0, scale=1.0)"
   ]
  },
  {
   "cell_type": "markdown",
   "metadata": {},
   "source": [
    "For discrete variates the `probability mass function` (PMF) gives the probability of the variate having a value x.\n",
    "\n",
    "For example, for a binomial distribution with `p = 0.5` and number of trials `n = 10` we can calculate the PMF using the following:"
   ]
  },
  {
   "cell_type": "code",
   "execution_count": 28,
   "metadata": {},
   "outputs": [
    {
     "name": "stdout",
     "output_type": "stream",
     "text": [
      "[ 0.00097656  0.00976563  0.04394531  0.1171875   0.20507813  0.24609375\n",
      "  0.20507813  0.1171875   0.04394531  0.00976563  0.00097656]\n"
     ]
    }
   ],
   "source": [
    "tries = range(11) # 0 to 10\n",
    "print(stats.binom.pmf(tries, 10, 0.5))"
   ]
  },
  {
   "cell_type": "markdown",
   "metadata": {},
   "source": [
    "The following function plots the PMF of a binomial distribution with `n` tries and probability of success `p`."
   ]
  },
  {
   "cell_type": "code",
   "execution_count": 29,
   "metadata": {
    "collapsed": true
   },
   "outputs": [],
   "source": [
    "def binom_pmf(n=4, p=0.5):\n",
    "    # There are n+1 possible number of \"successes\": 0 to n.\n",
    "    x = range(n+1)\n",
    "    y = stats.binom.pmf(x, n, p)\n",
    "    plt.plot(x,y,\"o\", color=\"black\")\n",
    "\n",
    "    # Format x-axis and y-axis.\n",
    "    plt.axis([-(max(x)-min(x))*0.05, max(x)*1.05, -0.01, max(y)*1.10])\n",
    "    plt.xticks(x)\n",
    "    plt.title(\"Binomial distribution PMF for tries = {0} & p ={1}\".format(\n",
    "            n,p))\n",
    "    plt.xlabel(\"Variate\")\n",
    "    plt.ylabel(\"Probability\")\n",
    "\n",
    "    plt.draw()"
   ]
  },
  {
   "cell_type": "markdown",
   "metadata": {},
   "source": [
    "The plot for the binomial distribution with `n = 10` and `p = 0.5` is show below."
   ]
  },
  {
   "cell_type": "code",
   "execution_count": 30,
   "metadata": {},
   "outputs": [
    {
     "data": {
      "image/png": "[encoded data removed]",
      "text/plain": [
       "<matplotlib.figure.Figure at 0x7f7df5147358>"
      ]
     },
     "metadata": {},
     "output_type": "display_data"
    }
   ],
   "source": [
    "binom_pmf(n=10, p=0.5)"
   ]
  },
  {
   "cell_type": "markdown",
   "metadata": {},
   "source": [
    "## Cumulative density function (CDF)\n",
    "\n",
    "CDF gives the probability that the variate has a value less than or equal to the given value."
   ]
  },
  {
   "cell_type": "code",
   "execution_count": 31,
   "metadata": {},
   "outputs": [
    {
     "data": {
      "text/plain": [
       "0.5"
      ]
     },
     "execution_count": 31,
     "metadata": {},
     "output_type": "execute_result"
    }
   ],
   "source": [
    "stats.norm.cdf(0.0, loc=0.0, scale=1.0)"
   ]
  },
  {
   "cell_type": "markdown",
   "metadata": {},
   "source": [
    "The following function plots the CDF for a Gaussian distribution of given mean and standard deviation."
   ]
  },
  {
   "cell_type": "code",
   "execution_count": 32,
   "metadata": {
    "collapsed": true
   },
   "outputs": [],
   "source": [
    "def norm_cdf(mean=0.0, std=1.0):\n",
    "    # 50 numbers between -3σ and 3σ\n",
    "    x = sp.linspace(-3*std, 3*std, 50)\n",
    "    # CDF at these values\n",
    "    y = stats.norm.cdf(x, loc=mean, scale=std)\n",
    "\n",
    "    plt.plot(x,y, color=\"black\")\n",
    "    plt.xlabel(\"Variate\")\n",
    "    plt.ylabel(\"Cumulative Probability\")\n",
    "    plt.title(\"CDF for Gaussian of mean = {0} & std. deviation = {1}\".format(\n",
    "               mean, std))\n",
    "    plt.draw()"
   ]
  },
  {
   "cell_type": "markdown",
   "metadata": {},
   "source": [
    "CDF for the Gaussian of mean = 0.0 and standard deviation = 1.0 is shown below."
   ]
  },
  {
   "cell_type": "code",
   "execution_count": 33,
   "metadata": {},
   "outputs": [
    {
     "data": {
      "image/png": "[encoded data removed]",
      "text/plain": [
       "<matplotlib.figure.Figure at 0x7f7df51478d0>"
      ]
     },
     "metadata": {},
     "output_type": "display_data"
    }
   ],
   "source": [
    "norm_cdf()"
   ]
  },
  {
   "cell_type": "markdown",
   "metadata": {},
   "source": [
    "## Percent point function (PPF) or inverse cumulative function\n",
    "\n",
    "PPF is the inverse of the CDF. That is, PPF gives the value of the variate for which the cumulative probability has the given value.\n"
   ]
  },
  {
   "cell_type": "code",
   "execution_count": 34,
   "metadata": {},
   "outputs": [
    {
     "data": {
      "text/plain": [
       "0.0"
      ]
     },
     "execution_count": 34,
     "metadata": {},
     "output_type": "execute_result"
    }
   ],
   "source": [
    "stats.norm.ppf(0.5, loc=0.0, scale=1.0)"
   ]
  },
  {
   "cell_type": "markdown",
   "metadata": {},
   "source": [
    "The following function plots the PPF for a Gaussian distribution."
   ]
  },
  {
   "cell_type": "code",
   "execution_count": 35,
   "metadata": {
    "collapsed": true
   },
   "outputs": [],
   "source": [
    "def norm_ppf(mean=0.0, std=1.0):\n",
    "    # 100 numbers between 0 and 1.0 i.e., probabilities.\n",
    "    x = sp.linspace(0, 1.0, 100)\n",
    "    # PPF at these values\n",
    "    y = stats.norm.ppf(x, loc=mean, scale=std)\n",
    "\n",
    "    plt.plot(x,y, color=\"black\")\n",
    "    plt.xlabel(\"Cumulative Probability\")\n",
    "    plt.ylabel(\"Variate\")\n",
    "\n",
    "    plt.title(\"PPF for Gaussian of mean = {0} & std. deviation = {1}\".format(\n",
    "               mean, std))\n",
    "    plt.draw()"
   ]
  },
  {
   "cell_type": "markdown",
   "metadata": {},
   "source": [
    "Example plot of PPF for Gaussian of mean = 0.0 and std. deviation = 1.0."
   ]
  },
  {
   "cell_type": "code",
   "execution_count": 36,
   "metadata": {},
   "outputs": [
    {
     "data": {
      "image/png": "[encoded data removed]",
      "text/plain": [
       "<matplotlib.figure.Figure at 0x7f7df515be80>"
      ]
     },
     "metadata": {},
     "output_type": "display_data"
    }
   ],
   "source": [
    "norm_ppf()"
   ]
  },
  {
   "cell_type": "markdown",
   "metadata": {},
   "source": [
    "## Survival function (SF)\n",
    "\n",
    "Survival function gives the probability that the variate has a value greater than the given value; `SF = 1 - CDF`."
   ]
  },
  {
   "cell_type": "code",
   "execution_count": 37,
   "metadata": {},
   "outputs": [
    {
     "data": {
      "text/plain": [
       "0.5"
      ]
     },
     "execution_count": 37,
     "metadata": {},
     "output_type": "execute_result"
    }
   ],
   "source": [
    "stats.norm.sf(0.0, loc=0.0, scale=1.0)"
   ]
  },
  {
   "cell_type": "markdown",
   "metadata": {},
   "source": [
    "A function for plotting the SF for a Gaussian with a given mean and std. deviation is shown below. An example plot for mean = 0.0 and std. deviation = 1.0 is also shown."
   ]
  },
  {
   "cell_type": "code",
   "execution_count": 38,
   "metadata": {
    "collapsed": true
   },
   "outputs": [],
   "source": [
    "def norm_sf(mean=0.0, std=1.0):\n",
    "    # 50 numbers between -3σ and 3σ\n",
    "    x = sp.linspace(-3*std, 3*std, 50)\n",
    "    # SF at these values\n",
    "    y = stats.norm.sf(x, loc=mean, scale=std)\n",
    "\n",
    "    plt.plot(x,y, color=\"black\")\n",
    "    plt.xlabel(\"Variate\")\n",
    "    plt.ylabel(\"Probability\")\n",
    "    plt.title(\"SF for Gaussian of mean = {0} & std. deviation = {1}\".format(\n",
    "               mean, std))\n",
    "    plt.draw()"
   ]
  },
  {
   "cell_type": "code",
   "execution_count": 39,
   "metadata": {},
   "outputs": [
    {
     "data": {
      "image/png": "[encoded data removed]",
      "text/plain": [
       "<matplotlib.figure.Figure at 0x7f7df50fc518>"
      ]
     },
     "metadata": {},
     "output_type": "display_data"
    }
   ],
   "source": [
    "norm_sf()"
   ]
  },
  {
   "cell_type": "markdown",
   "metadata": {},
   "source": [
    "## Inverse survival function (ISF)\n",
    "\n",
    "ISF is the inverse of the survival function. It gives the value of the variate for which the survival function has the given value.\n"
   ]
  },
  {
   "cell_type": "code",
   "execution_count": 40,
   "metadata": {},
   "outputs": [
    {
     "data": {
      "text/plain": [
       "0.0"
      ]
     },
     "execution_count": 40,
     "metadata": {},
     "output_type": "execute_result"
    }
   ],
   "source": [
    "stats.norm.isf(0.5, loc=0.0, scale=1.0)"
   ]
  },
  {
   "cell_type": "markdown",
   "metadata": {},
   "source": [
    "Function to plot the ISF, and an example plot, for a Gaussian is given below."
   ]
  },
  {
   "cell_type": "code",
   "execution_count": 41,
   "metadata": {
    "collapsed": true
   },
   "outputs": [],
   "source": [
    "def norm_isf(mean=0.0, std=1.0):\n",
    "    # 100 numbers between 0 and 1.0\n",
    "    x = sp.linspace(0, 1.0, 100)\n",
    "    # PPF at these values\n",
    "    y = stats.norm.isf(x, loc=mean, scale=std)\n",
    "\n",
    "    plt.plot(x,y, color=\"black\")\n",
    "    plt.xlabel(\"Probability\")\n",
    "    plt.ylabel(\"Variate\")\n",
    "\n",
    "    plt.title(\"ISF for Gaussian of mean = {0} & std. deviation = {1}\".format(\n",
    "               mean, std))\n",
    "    plt.draw()"
   ]
  },
  {
   "cell_type": "code",
   "execution_count": 42,
   "metadata": {},
   "outputs": [
    {
     "data": {
      "image/png": "[encoded data removed]",
      "text/plain": [
       "<matplotlib.figure.Figure at 0x7f7dee586160>"
      ]
     },
     "metadata": {},
     "output_type": "display_data"
    }
   ],
   "source": [
    "norm_isf()"
   ]
  },
  {
   "cell_type": "markdown",
   "metadata": {},
   "source": [
    "## Random variates\n",
    "\n",
    "A random value or several random values can be drawn from a distribution using the rvs method of the appropriate class.\n"
   ]
  },
  {
   "cell_type": "code",
   "execution_count": 43,
   "metadata": {},
   "outputs": [
    {
     "data": {
      "text/plain": [
       "array([ 0.43563236,  0.64023913,  0.15999553,  0.76137913,  2.20649518,\n",
       "       -0.27544424, -0.65235949,  0.77121086,  0.92488545,  1.10681629,\n",
       "       -0.19911904,  0.73920904, -0.30744031,  0.07375098, -1.4446538 ,\n",
       "        0.33239086,  0.15303719,  0.82010066, -0.37120735,  1.14613582,\n",
       "        0.06832584,  0.32739076, -0.93679681, -0.39559233, -1.69893046,\n",
       "        0.26089773,  0.39753363,  1.26123419,  0.32445368, -0.68575402,\n",
       "        1.4228137 ,  1.5678228 ,  0.9120001 , -0.51117639, -2.1894973 ,\n",
       "        0.67615388, -0.89645845, -0.09770471,  1.07546304, -1.21666441,\n",
       "        0.72109157, -0.62915487,  0.83992714, -0.77758272, -0.5245517 ,\n",
       "       -0.27686093, -1.09452943, -0.76104083, -0.046923  ,  0.53407381,\n",
       "        1.52471401, -0.10641604, -0.54484985,  1.4232797 , -1.64701091,\n",
       "       -1.72560848,  0.02006549, -0.23420933, -0.75122827,  0.83686552,\n",
       "       -1.30956477,  1.28221761,  1.8800492 ,  1.29063282, -0.66547631,\n",
       "        1.77022054,  1.49648132, -1.50747026,  1.30343639, -0.47586673,\n",
       "        0.07481055,  0.33369406, -0.69970802,  1.01039233, -1.54206536,\n",
       "        0.22169966, -0.07630069,  2.04318127, -1.22163303, -0.02571972,\n",
       "        1.24656092,  1.01580222,  1.68522647, -0.37209118, -0.57223506,\n",
       "        0.04655991,  0.29571013, -0.16935658, -0.35517825, -1.33197409,\n",
       "       -0.96047328,  0.04934088,  2.54257991, -1.62590558,  0.40857547,\n",
       "       -0.61416247, -0.30355597, -0.12836498,  0.23093757,  0.50708257])"
      ]
     },
     "execution_count": 43,
     "metadata": {},
     "output_type": "execute_result"
    }
   ],
   "source": [
    "# 100 random values from a Normal distribution with mu = 1.0\n",
    "stats.norm.rvs(loc=0.0, scale=1.0, size=100)"
   ]
  },
  {
   "cell_type": "code",
   "execution_count": 44,
   "metadata": {},
   "outputs": [
    {
     "data": {
      "text/plain": [
       "array([0, 2, 1, 2, 0, 1, 0, 0, 0, 2, 0, 0, 1, 1, 1, 1, 0, 2, 0, 0, 1, 0, 1,\n",
       "       1, 0, 1, 1, 1, 0, 2, 1, 2, 2, 0, 1, 3, 1, 1, 0, 1, 2, 1, 1, 1, 1, 2,\n",
       "       0, 0, 2, 1, 1, 0, 2, 0, 0, 1, 2, 1, 2, 0, 1, 1, 1, 0, 0, 0, 1, 1, 0,\n",
       "       1, 1, 1, 1, 0, 2, 1, 0, 2, 0, 0, 2, 1, 1, 0, 0, 1, 1, 1, 0, 1, 1, 3,\n",
       "       1, 1, 0, 3, 1, 3, 0, 0])"
      ]
     },
     "execution_count": 44,
     "metadata": {},
     "output_type": "execute_result"
    }
   ],
   "source": [
    "# 100 random values from a Poisson distribution with mu = 1.0\n",
    "stats.poisson.rvs(1.0, size=100)"
   ]
  },
  {
   "cell_type": "markdown",
   "metadata": {},
   "source": [
    "The following plot shows the histogram of events recorded in a series of 2 second intervals. The data is simulated by drawing 100 random events from a Poisson distribution with mean `μ` = 1.69. Also plotted is the Probability Mass Function (PMF) of the Poisson distribution with mean `μ` = 1.69. Poisson is a discrete distribution and the solid line is just a smooth line drawn through the points of the Poisson distribution PMF. The mean μ and the standard deviation `σ = sqrt(μ)` are marked."
   ]
  },
  {
   "cell_type": "code",
   "execution_count": 45,
   "metadata": {},
   "outputs": [
    {
     "data": {
      "image/png": "[encoded data removed]",
      "text/plain": [
       "<matplotlib.figure.Figure at 0x7f7dee51b5f8>"
      ]
     },
     "metadata": {},
     "output_type": "display_data"
    }
   ],
   "source": [
    "import scipy as sp\n",
    "from scipy import stats\n",
    "from matplotlib import pyplot as plt\n",
    "from scipy import interpolate\n",
    "import warnings\n",
    "warnings.filterwarnings('ignore')\n",
    "\n",
    "def simulate_poisson():\n",
    "    # Mean is 1.69\n",
    "    mu = 1.69\n",
    "    sigma = sp.sqrt(mu)\n",
    "    mu_plus_sigma = mu + sigma\n",
    "\n",
    "    # Draw random samples from the Poisson distribution, to simulate\n",
    "    # the observed events per 2 second interval.\n",
    "    counts = stats.poisson.rvs(mu, size=100)\n",
    "\n",
    "    # Bins for the histogram: only the last bin is closed on both\n",
    "    # sides. We need one more bin than the maximum value of count, so\n",
    "    # that the maximum value goes in its own bin instead of getting\n",
    "    # added to the previous bin.\n",
    "    # [0,1), [1, 2), ..., [max(counts), max(counts)+1]\n",
    "    bins = range(0, max(counts)+2)\n",
    "\n",
    "    # Plot histogram.\n",
    "    plt.hist(counts, bins=bins, align=\"left\", histtype=\"step\", color=\"black\")\n",
    "\n",
    "    # Create Poisson distribution for given mu.\n",
    "    x = range(0,10)\n",
    "    prob = stats.poisson.pmf(x, mu)*100 \n",
    "\n",
    "    # Plot the PMF.\n",
    "    plt.plot(x, prob, \"o\", color=\"black\")\n",
    "\n",
    "    # Draw a smooth curve through the PMF.\n",
    "    l = sp.linspace(0,11,100)\n",
    "    s = interpolate.spline(x, prob, l)\n",
    "    plt.plot(l,s,color=\"black\")\n",
    "\n",
    "    plt.xlabel(\"Number of counts per 2 seconds\")\n",
    "    plt.ylabel(\"Number of occurrences (Poisson)\")\n",
    "\n",
    "    # Interpolated probability at x = μ + σ; for marking σ in the graph.\n",
    "    xx = sp.searchsorted(l,mu_plus_sigma) - 1\n",
    "    v = ((s[xx+1] -  s[xx])/(l[xx+1]-l[xx])) * (mu_plus_sigma - l[xx])\n",
    "    v += s[xx]\n",
    "\n",
    "    ax = plt.gca()\n",
    "    # Reset axis range and ticks.\n",
    "    ax.axis([-0.5,10, 0, 40])\n",
    "    ax.set_xticks(range(1,10), minor=True)\n",
    "    ax.set_yticks(range(0,41,8))\n",
    "    ax.set_yticks(range(4,41,8), minor=True)\n",
    "\n",
    "    # Draw arrow and then place an opaque box with μ in it.\n",
    "    ax.annotate(\"\", xy=(mu,29), xycoords=\"data\", xytext=(mu, 13),\n",
    "                textcoords=\"data\", arrowprops=dict(arrowstyle=\"->\",\n",
    "                                                   connectionstyle=\"arc3\"))\n",
    "    bbox_props = dict(boxstyle=\"round\", fc=\"w\", ec=\"w\")\n",
    "    ax.text(mu, 21, r\"$\\mu$\", va=\"center\", ha=\"center\",\n",
    "            size=15, bbox=bbox_props)\n",
    "\n",
    "    # Draw arrow and then place an opaque box with σ in it.\n",
    "    ax.annotate(\"\", xy=(mu,v), xytext=(mu_plus_sigma,v),\n",
    "                arrowprops=dict(arrowstyle=\"<->\", connectionstyle=\"arc3\"))\n",
    "    bbox_props = dict(boxstyle=\"round\", fc=\"w\", ec=\"w\")\n",
    "    ax.text(mu+(sigma/2.0), v, r\"$\\sigma$\", va=\"center\", ha=\"center\",\n",
    "            size=15, bbox=bbox_props)\n",
    "\n",
    "    # Refresh plot and save figure.\n",
    "    plt.draw()\n",
    "    plt.savefig(\"simulate_poisson.png\")\n",
    "\n",
    "simulate_poisson()"
   ]
  },
  {
   "cell_type": "code",
   "execution_count": null,
   "metadata": {
    "collapsed": true
   },
   "outputs": [],
   "source": []
  }
 ],
 "metadata": {
  "anaconda-cloud": {},
  "kernelspec": {
   "display_name": "Python 3",
   "language": "python",
   "name": "python3"
  },
  "language_info": {
   "codemirror_mode": {
    "name": "ipython",
    "version": 3
   },
   "file_extension": ".py",
   "mimetype": "text/x-python",
   "name": "python",
   "nbconvert_exporter": "python",
   "pygments_lexer": "ipython3",
   "version": "3.6.3"
  }
 },
 "nbformat": 4,
 "nbformat_minor": 1
}
