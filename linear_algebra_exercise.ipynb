{
 "cells": [
  {
   "cell_type": "markdown",
   "metadata": {},
   "source": [
    "# Linear Algebra\n",
    "Although its name may sound harmless, Linear Algebra is by no means a trivial branch of mathematics, and the deeper you dive into Data Science and Statistics, the more often you will encounter its concepts.  In this exercise, we'll start with some basic operations on matrices and vectors, then move onto Eigenvalues and Eigenvectors, and conclude with some Matrix Decompositions.\n",
    "\n",
    "## Vectors and Matrices\n",
    "1. (1) Create a $2\\times2$ matrix $\\textbf{A}$ and a column vector $\\vec{v}$.  Now compute the matrix products $\\textbf{A}\\vec{v}$ and $\\vec{v}\\textbf{A}$.  Did both operations work?  Why or why not?\n",
    "1. (2) Using $\\vec{v}$ above, compute the inner, or dot, product, $\\vec{v} \\cdot \\vec{v}$.  Is this quantity reminiscent of another vector quantity?"
   ]
  },
  {
   "cell_type": "code",
   "execution_count": 1,
   "metadata": {
    "collapsed": true
   },
   "outputs": [],
   "source": [
    "import numpy as np\n",
    "import numpy.linalg as LA"
   ]
  },
  {
   "cell_type": "code",
   "execution_count": 2,
   "metadata": {},
   "outputs": [
    {
     "data": {
      "text/plain": [
       "array([5, 6])"
      ]
     },
     "execution_count": 2,
     "metadata": {},
     "output_type": "execute_result"
    },
    {
     "data": {
      "text/plain": [
       "61"
      ]
     },
     "execution_count": 2,
     "metadata": {},
     "output_type": "execute_result"
    }
   ],
   "source": [
    "u_row = np.array([5,6])\n",
    "u_row\n",
    "np.dot(u_row, u_row)"
   ]
  },
  {
   "cell_type": "code",
   "execution_count": 3,
   "metadata": {},
   "outputs": [
    {
     "data": {
      "text/plain": [
       "array([[1, 2],\n",
       "       [3, 4]])"
      ]
     },
     "execution_count": 3,
     "metadata": {},
     "output_type": "execute_result"
    },
    {
     "data": {
      "text/plain": [
       "array([[5],\n",
       "       [6]])"
      ]
     },
     "execution_count": 3,
     "metadata": {},
     "output_type": "execute_result"
    },
    {
     "data": {
      "text/plain": [
       "array([[17],\n",
       "       [39]])"
      ]
     },
     "execution_count": 3,
     "metadata": {},
     "output_type": "execute_result"
    },
    {
     "data": {
      "text/plain": [
       "61"
      ]
     },
     "execution_count": 3,
     "metadata": {},
     "output_type": "execute_result"
    },
    {
     "data": {
      "text/plain": [
       "60.999999999999993"
      ]
     },
     "execution_count": 3,
     "metadata": {},
     "output_type": "execute_result"
    }
   ],
   "source": [
    "A = np.array([[1, 2], [3, 4]])\n",
    "A\n",
    "u_col = np.array([[5], [6]])\n",
    "#u_col = u_col.T\n",
    "u_col\n",
    "A.dot(u_col) # works as matmult 2x2 and 2x1\n",
    "# u_col.dot(A) fails as trying to matmult 2x1 and 2x2\n",
    "np.dot(u_col.flatten(), u_col.flatten()) #both need to be row vectors first, give same as norm squared \n",
    "LA.norm(u_col) ** 2"
   ]
  },
  {
   "cell_type": "code",
   "execution_count": 4,
   "metadata": {},
   "outputs": [
    {
     "data": {
      "text/plain": [
       "array([[ 1,  4],\n",
       "       [ 9, 16]])"
      ]
     },
     "execution_count": 4,
     "metadata": {},
     "output_type": "execute_result"
    },
    {
     "data": {
      "text/plain": [
       "array([[ 7, 10],\n",
       "       [15, 22]])"
      ]
     },
     "execution_count": 4,
     "metadata": {},
     "output_type": "execute_result"
    },
    {
     "data": {
      "text/plain": [
       "array([[ 9, 12, 15],\n",
       "       [19, 26, 33]])"
      ]
     },
     "execution_count": 4,
     "metadata": {},
     "output_type": "execute_result"
    },
    {
     "data": {
      "text/plain": [
       "array([[ 9, 12, 15],\n",
       "       [19, 26, 33]])"
      ]
     },
     "execution_count": 4,
     "metadata": {},
     "output_type": "execute_result"
    },
    {
     "data": {
      "text/plain": [
       "array([[ 9, 12, 15],\n",
       "       [19, 26, 33]])"
      ]
     },
     "execution_count": 4,
     "metadata": {},
     "output_type": "execute_result"
    },
    {
     "data": {
      "text/plain": [
       "array([[ 9, 12, 15],\n",
       "       [19, 26, 33]])"
      ]
     },
     "execution_count": 4,
     "metadata": {},
     "output_type": "execute_result"
    }
   ],
   "source": [
    "A = np.array([[1, 2], [3, 4]])\n",
    "C = np.array([[1, 2, 3], [4, 5, 6]])\n",
    "\n",
    "A*A              # ** on ndarray this does elementwise **\n",
    "np.dot(A, A)     # this does matrix multiplication\n",
    "\n",
    "#A*C             # ** doesn't work with ndarray as it is looking for an element-wise match **\n",
    "\n",
    "A.dot(C)         # these four all give the same result, matrix multiplication\n",
    "np.dot(A,C)\n",
    "np.matmul(A,C)\n",
    "A@C"
   ]
  },
  {
   "cell_type": "code",
   "execution_count": 5,
   "metadata": {},
   "outputs": [
    {
     "data": {
      "text/plain": [
       "matrix([[ 7, 10],\n",
       "        [15, 22]])"
      ]
     },
     "execution_count": 5,
     "metadata": {},
     "output_type": "execute_result"
    },
    {
     "data": {
      "text/plain": [
       "matrix([[ 7, 10],\n",
       "        [15, 22]])"
      ]
     },
     "execution_count": 5,
     "metadata": {},
     "output_type": "execute_result"
    },
    {
     "data": {
      "text/plain": [
       "matrix([[ 9, 12, 15],\n",
       "        [19, 26, 33]])"
      ]
     },
     "execution_count": 5,
     "metadata": {},
     "output_type": "execute_result"
    },
    {
     "data": {
      "text/plain": [
       "matrix([[ 9, 12, 15],\n",
       "        [19, 26, 33]])"
      ]
     },
     "execution_count": 5,
     "metadata": {},
     "output_type": "execute_result"
    },
    {
     "data": {
      "text/plain": [
       "matrix([[ 9, 12, 15],\n",
       "        [19, 26, 33]])"
      ]
     },
     "execution_count": 5,
     "metadata": {},
     "output_type": "execute_result"
    },
    {
     "data": {
      "text/plain": [
       "matrix([[ 9, 12, 15],\n",
       "        [19, 26, 33]])"
      ]
     },
     "execution_count": 5,
     "metadata": {},
     "output_type": "execute_result"
    },
    {
     "data": {
      "text/plain": [
       "matrix([[ 9, 12, 15],\n",
       "        [19, 26, 33]])"
      ]
     },
     "execution_count": 5,
     "metadata": {},
     "output_type": "execute_result"
    }
   ],
   "source": [
    "A = np.matrix([[1, 2], [3, 4]])\n",
    "C = np.matrix([[1, 2, 3], [4, 5, 6]])\n",
    "\n",
    "\n",
    "A*A              # ** on matrix this does matrix multiplication **\n",
    "np.dot(A, A)     # this also does matrix multiplication\n",
    "\n",
    "A*C              # ** works with matrix as it is looking for alignment for matmul\n",
    "\n",
    "A.dot(C)         # these four all give the same result, matrix multiplication\n",
    "np.dot(A,C)\n",
    "np.matmul(A,C)\n",
    "A@C"
   ]
  },
  {
   "cell_type": "markdown",
   "metadata": {},
   "source": [
    "1. (3) Create 3 matrices $\\textbf{A}$, $\\textbf{B}$, $\\textbf{C}$ of dimension $2\\times2$, $3\\times2$, and $2\\times3$ respectively such that $$\\textbf{A} = \\begin{bmatrix} 1 & 2 \\\\ 3 & 4 \\end{bmatrix} \\textbf{B} = \\begin{bmatrix} 1 & 2 \\\\ 3 & 4 \\\\ 5 & 6\\end{bmatrix} \\textbf{C} = \\begin{bmatrix} 1 & 2 & 3\\\\ 4 & 5 & 6 \\end{bmatrix}$$ and perform the following multiplications, stating the final dimensions of each: $\\textbf{AA}$, $\\textbf{AB}$, $\\textbf{AC}$, $\\textbf{BB}$, $\\textbf{BA}$, $\\textbf{BC}$, $\\textbf{CC}$, $\\textbf{CA}$, $\\textbf{CB}$.  Comment on your results."
   ]
  },
  {
   "cell_type": "code",
   "execution_count": 6,
   "metadata": {},
   "outputs": [
    {
     "data": {
      "text/plain": [
       "matrix([[1, 2],\n",
       "        [3, 4]])"
      ]
     },
     "execution_count": 6,
     "metadata": {},
     "output_type": "execute_result"
    },
    {
     "data": {
      "text/plain": [
       "matrix([[ 7, 10],\n",
       "        [15, 22]])"
      ]
     },
     "execution_count": 6,
     "metadata": {},
     "output_type": "execute_result"
    },
    {
     "data": {
      "text/plain": [
       "matrix([[ 9, 12, 15],\n",
       "        [19, 26, 33]])"
      ]
     },
     "execution_count": 6,
     "metadata": {},
     "output_type": "execute_result"
    },
    {
     "data": {
      "text/plain": [
       "matrix([[ 7, 10],\n",
       "        [15, 22],\n",
       "        [23, 34]])"
      ]
     },
     "execution_count": 6,
     "metadata": {},
     "output_type": "execute_result"
    },
    {
     "data": {
      "text/plain": [
       "matrix([[ 9, 12, 15],\n",
       "        [19, 26, 33],\n",
       "        [29, 40, 51]])"
      ]
     },
     "execution_count": 6,
     "metadata": {},
     "output_type": "execute_result"
    },
    {
     "data": {
      "text/plain": [
       "matrix([[22, 28],\n",
       "        [49, 64]])"
      ]
     },
     "execution_count": 6,
     "metadata": {},
     "output_type": "execute_result"
    }
   ],
   "source": [
    "A = np.matrix([[1, 2], [3, 4]])\n",
    "A\n",
    "B = np.matrix([[1, 2], [3, 4], [5, 6]])\n",
    "C = np.matrix([[1, 2, 3], [4, 5, 6]])\n",
    "np.dot(A, A)\n",
    "#np.dot(A, B)\n",
    "A*C              # if we used array rather than matrix this doesn't work as will look for elementwise\n",
    "#np.dot(B, B)\n",
    "np.matmul(B, A)\n",
    "np.dot(B, C)\n",
    "#np.dot(C, C)\n",
    "#np.dot(C, A)\n",
    "np.dot(C, B)"
   ]
  },
  {
   "cell_type": "code",
   "execution_count": 7,
   "metadata": {},
   "outputs": [
    {
     "data": {
      "text/plain": [
       "matrix([[1, 2],\n",
       "        [3, 4]])"
      ]
     },
     "execution_count": 7,
     "metadata": {},
     "output_type": "execute_result"
    },
    {
     "data": {
      "text/plain": [
       "matrix([[1, 2],\n",
       "        [3, 4],\n",
       "        [5, 6]])"
      ]
     },
     "execution_count": 7,
     "metadata": {},
     "output_type": "execute_result"
    }
   ],
   "source": [
    "A\n",
    "B"
   ]
  },
  {
   "cell_type": "markdown",
   "metadata": {},
   "source": [
    "1. (4) Using $\\textbf{A}$ and $\\textbf{B}$ above, compute $(\\textbf{BA})^T$ and $\\textbf{A}^T \\textbf{B}^T$.  What can you say about your results?"
   ]
  },
  {
   "cell_type": "code",
   "execution_count": 8,
   "metadata": {},
   "outputs": [
    {
     "data": {
      "text/plain": [
       "matrix([[ 7, 10],\n",
       "        [15, 22],\n",
       "        [23, 34]])"
      ]
     },
     "execution_count": 8,
     "metadata": {},
     "output_type": "execute_result"
    },
    {
     "data": {
      "text/plain": [
       "matrix([[ 7, 15, 23],\n",
       "        [10, 22, 34]])"
      ]
     },
     "execution_count": 8,
     "metadata": {},
     "output_type": "execute_result"
    },
    {
     "data": {
      "text/plain": [
       "matrix([[ 7, 15, 23],\n",
       "        [10, 22, 34]])"
      ]
     },
     "execution_count": 8,
     "metadata": {},
     "output_type": "execute_result"
    },
    {
     "data": {
      "text/plain": [
       "'transpose is reverse commutative across matmul'"
      ]
     },
     "execution_count": 8,
     "metadata": {},
     "output_type": "execute_result"
    }
   ],
   "source": [
    "B@A\n",
    "(B@A).T\n",
    "A.T@B.T\n",
    "\"transpose is reverse commutative across matmul\""
   ]
  },
  {
   "cell_type": "code",
   "execution_count": 9,
   "metadata": {
    "scrolled": true
   },
   "outputs": [
    {
     "data": {
      "text/plain": [
       "matrix([[1, 2],\n",
       "        [3, 4]])"
      ]
     },
     "execution_count": 9,
     "metadata": {},
     "output_type": "execute_result"
    },
    {
     "data": {
      "text/plain": [
       "matrix([[1, 2],\n",
       "        [3, 4],\n",
       "        [5, 6]])"
      ]
     },
     "execution_count": 9,
     "metadata": {},
     "output_type": "execute_result"
    },
    {
     "data": {
      "text/plain": [
       "matrix([[1, 2, 3],\n",
       "        [4, 5, 6]])"
      ]
     },
     "execution_count": 9,
     "metadata": {},
     "output_type": "execute_result"
    }
   ],
   "source": [
    "A\n",
    "B\n",
    "C"
   ]
  },
  {
   "cell_type": "markdown",
   "metadata": {},
   "source": [
    "1. (5) Using $\\textbf{A}$, $\\textbf{B}$, and $\\textbf{C}$ above, compute the following sums: $\\textbf{A+A}$, $\\textbf{A+B}$, $\\textbf{A+C}$, $\\textbf{B+B}$, $\\textbf{B+A}$, $\\textbf{B+C}$, $\\textbf{C+C}$, $\\textbf{C+A}$, $\\textbf{C+B}$.  Comment on your results."
   ]
  },
  {
   "cell_type": "code",
   "execution_count": 10,
   "metadata": {},
   "outputs": [
    {
     "data": {
      "text/plain": [
       "matrix([[2, 4],\n",
       "        [6, 8]])"
      ]
     },
     "execution_count": 10,
     "metadata": {},
     "output_type": "execute_result"
    },
    {
     "data": {
      "text/plain": [
       "matrix([[ 2,  4],\n",
       "        [ 6,  8],\n",
       "        [10, 12]])"
      ]
     },
     "execution_count": 10,
     "metadata": {},
     "output_type": "execute_result"
    },
    {
     "data": {
      "text/plain": [
       "matrix([[ 2,  4,  6],\n",
       "        [ 8, 10, 12]])"
      ]
     },
     "execution_count": 10,
     "metadata": {},
     "output_type": "execute_result"
    }
   ],
   "source": [
    "A + A\n",
    "#A + B\n",
    "#A + C\n",
    "#B + C\n",
    "#B + A\n",
    "B + B\n",
    "C + C\n",
    "#C + A\n",
    "#C + B\n",
    "# dim must be equal to do matrix addition"
   ]
  },
  {
   "cell_type": "markdown",
   "metadata": {},
   "source": [
    "1. (6) Construct three matrices $\\textbf{I}_A$, $\\textbf{I}_B$, and $\\textbf{I}_C$ such that $\\textbf{I}_A\\textbf{A} = \\textbf{A}$, $\\textbf{I}_B\\textbf{B} = \\textbf{B}$, and $\\textbf{I}_C\\textbf{C} = \\textbf{C}$.\n",
    "1. (7) Construct three matrices $\\textbf{A}^{-1}$, $\\textbf{B}^{-1}$, and $\\textbf{C}^{-1}$ such that $\\textbf{A}^{-1}\\textbf{A} = \\textbf{I}_A$, $\\textbf{B}^{-1}\\textbf{B} = \\textbf{I}_B$, and $\\textbf{C}^{-1}\\textbf{C} = \\textbf{I}_C$.  Comment on your results. **Hint** This may not always be possible!\n",
    "1. (8) Using $\\textbf{A}^{-1}$ compute $(\\textbf{A}^{-1})^T$ and comment on your results."
   ]
  },
  {
   "cell_type": "code",
   "execution_count": 11,
   "metadata": {},
   "outputs": [
    {
     "data": {
      "text/plain": [
       "matrix([[ 1.,  2.],\n",
       "        [ 3.,  4.]])"
      ]
     },
     "execution_count": 11,
     "metadata": {},
     "output_type": "execute_result"
    },
    {
     "data": {
      "text/plain": [
       "matrix([[ 1.,  2.],\n",
       "        [ 3.,  4.],\n",
       "        [ 5.,  6.]])"
      ]
     },
     "execution_count": 11,
     "metadata": {},
     "output_type": "execute_result"
    },
    {
     "data": {
      "text/plain": [
       "matrix([[ 1.,  2.,  3.],\n",
       "        [ 4.,  5.,  6.]])"
      ]
     },
     "execution_count": 11,
     "metadata": {},
     "output_type": "execute_result"
    },
    {
     "data": {
      "text/plain": [
       "matrix([[  1.00000000e+00,   4.44089210e-16],\n",
       "        [  0.00000000e+00,   1.00000000e+00]])"
      ]
     },
     "execution_count": 11,
     "metadata": {},
     "output_type": "execute_result"
    },
    {
     "data": {
      "text/plain": [
       "matrix([[-2. ,  1. ],\n",
       "        [ 1.5, -0.5]])"
      ]
     },
     "execution_count": 11,
     "metadata": {},
     "output_type": "execute_result"
    },
    {
     "data": {
      "text/plain": [
       "matrix([[-2. ,  1.5],\n",
       "        [ 1. , -0.5]])"
      ]
     },
     "execution_count": 11,
     "metadata": {},
     "output_type": "execute_result"
    },
    {
     "data": {
      "text/plain": [
       "matrix([[1, 3],\n",
       "        [2, 4]])"
      ]
     },
     "execution_count": 11,
     "metadata": {},
     "output_type": "execute_result"
    },
    {
     "data": {
      "text/plain": [
       "matrix([[ 1.,  3.],\n",
       "        [ 2.,  4.]])"
      ]
     },
     "execution_count": 11,
     "metadata": {},
     "output_type": "execute_result"
    }
   ],
   "source": [
    "#I_A = np.identity(A.shape[0]) # identify = eye and allows get I without having to look or fix dim of A\n",
    "\n",
    "I_A = np.eye(2)\n",
    "I_A@A\n",
    "I_B = np.eye(3)\n",
    "I_B@B\n",
    "I_C = np.eye(2)\n",
    "I_C@C\n",
    "\n",
    "LA.inv(A)@A\n",
    "# LA.inv(B)@B                # B not invertible (not sqaure)\n",
    "# LA.inv(C)@C                # C not inverticle (not square)\n",
    "\n",
    "LA.inv(A)\n",
    "(LA.inv(A)).T\n",
    "A.T\n",
    "LA.inv(LA.inv(A).T)"
   ]
  },
  {
   "cell_type": "markdown",
   "metadata": {},
   "source": [
    "1. (9) Using $\\textbf{A}$, $\\textbf{B}$, and $\\textbf{C}$, compute the determinant of each.  Comment on your results."
   ]
  },
  {
   "cell_type": "code",
   "execution_count": 12,
   "metadata": {},
   "outputs": [
    {
     "data": {
      "text/plain": [
       "-2.0000000000000004"
      ]
     },
     "execution_count": 12,
     "metadata": {},
     "output_type": "execute_result"
    }
   ],
   "source": [
    "LA.det(A)\n",
    "# LA.det(B)     no determinate if not square\n",
    "# LA.det(C)     no determinate if not square"
   ]
  },
  {
   "cell_type": "markdown",
   "metadata": {},
   "source": [
    "1. (10) Construct a square ($2\\times2$) matrix, $\\textbf{D}$,that is not invertible."
   ]
  },
  {
   "cell_type": "code",
   "execution_count": 13,
   "metadata": {},
   "outputs": [
    {
     "data": {
      "text/plain": [
       "matrix([[1, 0],\n",
       "        [1, 0]])"
      ]
     },
     "execution_count": 13,
     "metadata": {},
     "output_type": "execute_result"
    },
    {
     "ename": "LinAlgError",
     "evalue": "Singular matrix",
     "output_type": "error",
     "traceback": [
      "\u001b[0;31m---------------------------------------------------------------------------\u001b[0m",
      "\u001b[0;31mLinAlgError\u001b[0m                               Traceback (most recent call last)",
      "\u001b[0;32m<ipython-input-13-bba3ef1e7fed>\u001b[0m in \u001b[0;36m<module>\u001b[0;34m()\u001b[0m\n\u001b[1;32m      1\u001b[0m \u001b[0mD\u001b[0m \u001b[0;34m=\u001b[0m \u001b[0mnp\u001b[0m\u001b[0;34m.\u001b[0m\u001b[0mmatrix\u001b[0m\u001b[0;34m(\u001b[0m\u001b[0;34m[\u001b[0m\u001b[0;34m[\u001b[0m\u001b[0;36m1\u001b[0m\u001b[0;34m,\u001b[0m \u001b[0;36m0\u001b[0m\u001b[0;34m]\u001b[0m\u001b[0;34m,\u001b[0m \u001b[0;34m[\u001b[0m\u001b[0;36m1\u001b[0m\u001b[0;34m,\u001b[0m \u001b[0;36m0\u001b[0m\u001b[0;34m]\u001b[0m\u001b[0;34m]\u001b[0m\u001b[0;34m)\u001b[0m\u001b[0;34m\u001b[0m\u001b[0m\n\u001b[1;32m      2\u001b[0m \u001b[0mD\u001b[0m\u001b[0;34m\u001b[0m\u001b[0m\n\u001b[0;32m----> 3\u001b[0;31m \u001b[0mLA\u001b[0m\u001b[0;34m.\u001b[0m\u001b[0minv\u001b[0m\u001b[0;34m(\u001b[0m\u001b[0mD\u001b[0m\u001b[0;34m)\u001b[0m\u001b[0;34m\u001b[0m\u001b[0m\n\u001b[0m",
      "\u001b[0;32m~/anaconda3/lib/python3.6/site-packages/numpy/linalg/linalg.py\u001b[0m in \u001b[0;36minv\u001b[0;34m(a)\u001b[0m\n\u001b[1;32m    511\u001b[0m     \u001b[0msignature\u001b[0m \u001b[0;34m=\u001b[0m \u001b[0;34m'D->D'\u001b[0m \u001b[0;32mif\u001b[0m \u001b[0misComplexType\u001b[0m\u001b[0;34m(\u001b[0m\u001b[0mt\u001b[0m\u001b[0;34m)\u001b[0m \u001b[0;32melse\u001b[0m \u001b[0;34m'd->d'\u001b[0m\u001b[0;34m\u001b[0m\u001b[0m\n\u001b[1;32m    512\u001b[0m     \u001b[0mextobj\u001b[0m \u001b[0;34m=\u001b[0m \u001b[0mget_linalg_error_extobj\u001b[0m\u001b[0;34m(\u001b[0m\u001b[0m_raise_linalgerror_singular\u001b[0m\u001b[0;34m)\u001b[0m\u001b[0;34m\u001b[0m\u001b[0m\n\u001b[0;32m--> 513\u001b[0;31m     \u001b[0mainv\u001b[0m \u001b[0;34m=\u001b[0m \u001b[0m_umath_linalg\u001b[0m\u001b[0;34m.\u001b[0m\u001b[0minv\u001b[0m\u001b[0;34m(\u001b[0m\u001b[0ma\u001b[0m\u001b[0;34m,\u001b[0m \u001b[0msignature\u001b[0m\u001b[0;34m=\u001b[0m\u001b[0msignature\u001b[0m\u001b[0;34m,\u001b[0m \u001b[0mextobj\u001b[0m\u001b[0;34m=\u001b[0m\u001b[0mextobj\u001b[0m\u001b[0;34m)\u001b[0m\u001b[0;34m\u001b[0m\u001b[0m\n\u001b[0m\u001b[1;32m    514\u001b[0m     \u001b[0;32mreturn\u001b[0m \u001b[0mwrap\u001b[0m\u001b[0;34m(\u001b[0m\u001b[0mainv\u001b[0m\u001b[0;34m.\u001b[0m\u001b[0mastype\u001b[0m\u001b[0;34m(\u001b[0m\u001b[0mresult_t\u001b[0m\u001b[0;34m,\u001b[0m \u001b[0mcopy\u001b[0m\u001b[0;34m=\u001b[0m\u001b[0;32mFalse\u001b[0m\u001b[0;34m)\u001b[0m\u001b[0;34m)\u001b[0m\u001b[0;34m\u001b[0m\u001b[0m\n\u001b[1;32m    515\u001b[0m \u001b[0;34m\u001b[0m\u001b[0m\n",
      "\u001b[0;32m~/anaconda3/lib/python3.6/site-packages/numpy/linalg/linalg.py\u001b[0m in \u001b[0;36m_raise_linalgerror_singular\u001b[0;34m(err, flag)\u001b[0m\n\u001b[1;32m     88\u001b[0m \u001b[0;34m\u001b[0m\u001b[0m\n\u001b[1;32m     89\u001b[0m \u001b[0;32mdef\u001b[0m \u001b[0m_raise_linalgerror_singular\u001b[0m\u001b[0;34m(\u001b[0m\u001b[0merr\u001b[0m\u001b[0;34m,\u001b[0m \u001b[0mflag\u001b[0m\u001b[0;34m)\u001b[0m\u001b[0;34m:\u001b[0m\u001b[0;34m\u001b[0m\u001b[0m\n\u001b[0;32m---> 90\u001b[0;31m     \u001b[0;32mraise\u001b[0m \u001b[0mLinAlgError\u001b[0m\u001b[0;34m(\u001b[0m\u001b[0;34m\"Singular matrix\"\u001b[0m\u001b[0;34m)\u001b[0m\u001b[0;34m\u001b[0m\u001b[0m\n\u001b[0m\u001b[1;32m     91\u001b[0m \u001b[0;34m\u001b[0m\u001b[0m\n\u001b[1;32m     92\u001b[0m \u001b[0;32mdef\u001b[0m \u001b[0m_raise_linalgerror_nonposdef\u001b[0m\u001b[0;34m(\u001b[0m\u001b[0merr\u001b[0m\u001b[0;34m,\u001b[0m \u001b[0mflag\u001b[0m\u001b[0;34m)\u001b[0m\u001b[0;34m:\u001b[0m\u001b[0;34m\u001b[0m\u001b[0m\n",
      "\u001b[0;31mLinAlgError\u001b[0m: Singular matrix"
     ]
    }
   ],
   "source": [
    "D = np.matrix([[1, 0], [1, 0]])\n",
    "D\n",
    "LA.inv(D)"
   ]
  },
  {
   "cell_type": "code",
   "execution_count": null,
   "metadata": {},
   "outputs": [],
   "source": [
    "A"
   ]
  },
  {
   "cell_type": "markdown",
   "metadata": {
    "collapsed": true
   },
   "source": [
    "1. (11) How would you go about solving the equation $\\textbf{A}\\vec{x} = 0$, using $\\textbf{A}$ as above for an unknown $\\vec{x}$?  Do so and comment on your results.  **Hint** consider parts (6) and (7).\n",
    "1. (12) Using the same method as in part (11), solve the equation $\\textbf{A}\\vec{x} = \\vec{y}$ where $\\vec{y} = \\begin{bmatrix} 1 \\\\ -1 \\end{bmatrix}$\n",
    "1. (13) Solve the system of equations $$x_0 + 2x_1 = 3$$ $$-x_0 + x_1 = 1$$ using both matrix inversion and built in numpy functions.\n",
    "1. (14) Solve the system of equations $$x_0 + x_1 = 1$$ $$2x_0 + 2x_1 = 2$$ $$-3x_0 + -3x_1 = -3$$ using both matrix inversion and built in numpy functions.  Are these results what you expected?  Comment on your results.\n",
    "1. (15) Solve the system of equations $$x_0 + x_1 = 0$$ $$x_0 + x_1 = 1$$ using both matrix inversion and built in numpy functions.  Are these results what you expected?  Comment on your results."
   ]
  },
  {
   "cell_type": "code",
   "execution_count": null,
   "metadata": {},
   "outputs": [],
   "source": [
    "LA.inv(A) @ np.matrix([[0], [0]])\n",
    "LA.solve(A, np.matrix([[0], [0]]))\n",
    "\n",
    "LA.inv(A) @ np.matrix([[1], [-1]])\n",
    "LA.solve(A, np.matrix([[1], [-1]]))\n",
    "\n",
    "LA.inv(np.matrix([[1, 2], [-1, 1]])) @ np.matrix([[3], [1]])\n",
    "LA.solve((np.matrix([[1, 2], [-1, 1]])), np.matrix([[3], [1]]))\n",
    "\n",
    "# 3 eq in 2 unknowns and equations not linearly independent - not n x n so raises exception\n",
    "# LA.inv(np.matrix([[1, 2], [2, 1], [-3, -3]])) @ np.matrix([[1], [2], [-3]])\n",
    "# LA.solve(np.matrix([[1, 2], [2, 1], [-3, -3]])) @ np.matrix([[1], [2], [-3]])\n",
    "\n",
    "# parallel lines, no solution, raises exception singular matrix\n",
    "# LA.inv(np.matrix([[1, 1], [1, 1]])) @ np.matrix([[0], [1]])\n",
    "# LA.solve((np.matrix([[1, 1], [1, 1]])), np.matrix([[0], [1]]))"
   ]
  },
  {
   "cell_type": "markdown",
   "metadata": {},
   "source": [
    "## Eigenvalues and Eigenvectors\n",
    "No discussion of Linear Algebra would be complete without taking a look at Eigenvalues and Eigenvectors.  The root word \"eigen\" comes from the German meaning \"characteristic\", and these values and associated vectors, represent some interesting properties of a given matrix.  Namely, for a given matrix $\\textbf{A}$ and vector $\\vec{v}$, the eigenvalue(s), $\\lambda$, of $\\textbf{A}$, are the $\\lambda$ that satisfy the relationship $$\\textbf{A} \\vec{v} = \\lambda \\vec{v}$$ Keep in mind that $\\lambda$ is a *scalar* quantity, and when you multiply a vector by a scalar quantity, you just scale, or stretch, the vector in space.  Therefore, the above relationship says that the eigenvalues $\\lambda$ of $\\textbf{A}$, and associated eigenvectors $\\vec{v}$, are the vectors that when multiplied by $\\textbf{A}$ just \"stretch\" in space (no rotations).\n",
    "\n",
    "Now that may not sound very special, but the applicability of these concepts cannot be understated.  Eigenvalues and vectors have a tendency to crop up in any mathematically grounded discipline and Data Science is no exception.\n",
    "\n",
    "For a more detailed explanation, see \n",
    "- [Great math formula explanation](http://www.visiondummy.com/2014/03/eigenvalues-eigenvectors/)\n",
    "- [Visual explanation of Eigenvectors and Eigenvalues](http://setosa.io/ev/eigenvectors-and-eigenvalues/)\n",
    "\n",
    "before proceding with the following exercises."
   ]
  },
  {
   "cell_type": "markdown",
   "metadata": {},
   "source": [
    "1. (1) Generate a matrix $$\\textbf{A} = \\begin{bmatrix} 0 & 1 \\\\ -2 & -3 \\end{bmatrix}$$ and two vectors of your choosing, labeled $\\vec{v}_1$ and $\\vec{v}_2$.  Then compute the vectors $$\\vec{v}_1' = \\textbf{A}\\vec{v}_1$$ $$\\vec{v}_2' = \\textbf{A}\\vec{v}_2$$ And plot all 4 vectors with appropriate labels.  Comment on your results."
   ]
  },
  {
   "cell_type": "code",
   "execution_count": 15,
   "metadata": {
    "collapsed": true
   },
   "outputs": [],
   "source": [
    "import matplotlib\n",
    "import matplotlib.pyplot as plt\n",
    "%matplotlib inline"
   ]
  },
  {
   "cell_type": "code",
   "execution_count": 58,
   "metadata": {},
   "outputs": [
    {
     "name": "stdout",
     "output_type": "stream",
     "text": [
      "[[ 0]\n",
      " [-2]]\n",
      "[[1]\n",
      " [5]]\n",
      "[array([0, 0, 1, 0]), array([ 0,  0,  0, -2]), array([ 0,  0, -1,  1]), array([0, 0, 1, 5])]\n"
     ]
    },
    {
     "data": {
      "image/png": "[encoded data removed]",
      "text/plain": [
       "<matplotlib.figure.Figure at 0x7fb13a5d6828>"
      ]
     },
     "metadata": {},
     "output_type": "display_data"
    }
   ],
   "source": [
    "A = np.matrix([[0, 1], [-2, 3]])\n",
    "A\n",
    "v1 = np.matrix([[1], [0]])\n",
    "v2 = np.matrix([[-1], [1]])\n",
    "v1_p = A * v1\n",
    "v2_p = A * v2\n",
    "#print(v1)\n",
    "#print(v2)\n",
    "print(v1_p)\n",
    "print(v2_p)\n",
    "\n",
    "# Prep data for quiver plot\n",
    "# soa takes the column vectors we created (using .matrix so we have shape alignment) and flattens them\n",
    "# note this is a list comprehension\n",
    "# soa is a lis of ndarrays each with coordinates of origin and the vector \"head\"\n",
    "# arguments - starting array, index before which to insert, values to insert\n",
    "# soa is a list (list comprehension) of arrays (np.insert returns ndarray)\n",
    "soa = [np.insert(x, 0, [0, 0]) for x in [v1.getA1(), v1_p.getA1(), v2.getA1(), v2_p.getA1()]]\n",
    "# print(type(soa))\n",
    "print(soa)\n",
    "# print(type(soa[0]))\n",
    "# print(soa[0])\n",
    "\n",
    "\n",
    "labels = ['v1', 'v1_p', 'v2', 'v2_p']\n",
    "colors = ['red', 'green', 'blue', 'purple']\n",
    "\n",
    "# make the plots\n",
    "plt.figure()\n",
    "ax = plt.gca()\n",
    "\n",
    "for i in range(len(soa)): # iterate across each ndarray of orgin, point coordinate\n",
    "    X, Y, U, V = soa[i]   # takes the values in ndarray and assigns to x, y (origin) and u, v (point coord)\n",
    "    ax.quiver(X, Y, U, V, angles = 'xy', scale_units = 'xy', scale = 1, color = colors[i], label = labels[i])\n",
    "                          # this creates each of the arrows, not sure why need to assign to Q? works without!\n",
    "\n",
    "ax.legend(labels, loc='upper left')\n",
    "ax.set_xlim([-5, 5])\n",
    "ax.set_ylim([-5, 5])\n",
    "\n",
    "# spine adjustments\n",
    "ax = plt.gca()\n",
    "ax.spines['right'].set_color('none')\n",
    "ax.spines['top'].set_color('none')\n",
    "ax.xaxis.set_ticks_position('bottom')\n",
    "ax.spines['bottom'].set_position(('data', 0))\n",
    "ax.yaxis.set_ticks_position('left')\n",
    "ax.spines['left'].set_position(('data', 0))\n",
    "\n",
    "plt.show();"
   ]
  },
  {
   "cell_type": "markdown",
   "metadata": {},
   "source": [
    "1. (2) Now compute the eigenvalues and eigenvectors of $\\textbf{A}$, then plot $\\textbf{A}\\vec{v}$ and $\\lambda\\vec{v}$ on seperate plots, where $\\lambda$ is the eigenvalue of $\\textbf{A}$.  Comment on your results.\n",
    "1. (3) How do the results of part (2) differ from part (1)?"
   ]
  },
  {
   "cell_type": "code",
   "execution_count": 63,
   "metadata": {},
   "outputs": [
    {
     "name": "stdout",
     "output_type": "stream",
     "text": [
      "[array([ 0.        ,  0.        , -0.70710678, -0.70710678]), array([ 0.        ,  0.        , -0.70710678, -0.70710678]), array([ 0.        ,  0.        , -0.4472136 , -0.89442719]), array([ 0.        ,  0.        , -0.89442719, -1.78885438])]\n"
     ]
    },
    {
     "data": {
      "image/png": "[encoded data removed]",
      "text/plain": [
       "<matplotlib.figure.Figure at 0x7fb13a4fcdd8>"
      ]
     },
     "metadata": {},
     "output_type": "display_data"
    }
   ],
   "source": [
    "e_val, e_vec = LA.eig(A)\n",
    "e_val\n",
    "e_vec\n",
    "\n",
    "soa = [np.insert(x, 0, [0, 0]) for x in [e_vec.transpose()[0].getA1(), (A@e_vec).transpose()[0].getA1(),\n",
    "                                         e_vec.transpose()[1].getA1(), (A@e_vec).transpose()[1].getA1()]]\n",
    "print(soa)\n",
    "\n",
    "labels = ['e_vec[0]', 'A*e_vec[0]', 'e_vec[1]', 'A*e_vec[1]']\n",
    "colors = ['red', 'green', 'blue', 'purple']\n",
    "\n",
    "# make the plots\n",
    "plt.figure()\n",
    "ax = plt.gca()\n",
    "\n",
    "for i in range(len(soa)): # iterate across each ndarray of orgin, point coordinate\n",
    "    X, Y, U, V = soa[i]   # takes the values in ndarray and assigns to x, y (origin) and u, v (point coord)\n",
    "    ax.quiver(X, Y, U, V, angles = 'xy', scale_units = 'xy', scale = 1, color = colors[i], label = labels[i])\n",
    "                          # this creates each of the arrows, not sure why need to assign to Q? works without!\n",
    "\n",
    "ax.legend(labels, loc='upper left')\n",
    "ax.set_xlim([-2, 2])\n",
    "ax.set_ylim([-2, 2])\n",
    "\n",
    "# spine adjustments\n",
    "ax = plt.gca()\n",
    "ax.spines['right'].set_color('none')\n",
    "ax.spines['top'].set_color('none')\n",
    "ax.xaxis.set_ticks_position('bottom')\n",
    "ax.spines['bottom'].set_position(('data', 0))\n",
    "ax.yaxis.set_ticks_position('left')\n",
    "ax.spines['left'].set_position(('data', 0))\n",
    "\n",
    "plt.show();"
   ]
  },
  {
   "cell_type": "code",
   "execution_count": 64,
   "metadata": {},
   "outputs": [
    {
     "name": "stdout",
     "output_type": "stream",
     "text": [
      "[array([ 0.        ,  0.        , -0.70710678, -0.70710678]), array([ 0.        ,  0.        , -0.70710678, -0.70710678]), array([ 0.        ,  0.        , -0.4472136 , -0.89442719]), array([ 0.        ,  0.        , -0.89442719, -1.78885438])]\n"
     ]
    },
    {
     "data": {
      "image/png": "[encoded data removed]",
      "text/plain": [
       "<matplotlib.figure.Figure at 0x7fb13a91d390>"
      ]
     },
     "metadata": {},
     "output_type": "display_data"
    }
   ],
   "source": [
    "e_val, e_vec = LA.eig(A)\n",
    "e_val\n",
    "e_vec\n",
    "\n",
    "soa = [np.insert(x, 0, [0, 0]) for x in [e_vec.transpose()[0].getA1(), (e_val[0]*e_vec).transpose()[0].getA1(),\n",
    "                                         e_vec.transpose()[1].getA1(), (e_val[1]*e_vec).transpose()[1].getA1()]]\n",
    "print(soa)\n",
    "\n",
    "labels = ['e_vec[0]', 'e_val[0]*e_vec[0]', 'e_vec[1]', 'e_val[1]*e_vec[1]']\n",
    "colors = ['red', 'green', 'blue', 'purple']\n",
    "\n",
    "# make the plots\n",
    "plt.figure()\n",
    "ax = plt.gca()\n",
    "\n",
    "for i in range(len(soa)): # iterate across each ndarray of orgin, point coordinate\n",
    "    X, Y, U, V = soa[i]   # takes the values in ndarray and assigns to x, y (origin) and u, v (point coord)\n",
    "    ax.quiver(X, Y, U, V, angles = 'xy', scale_units = 'xy', scale = 1, color = colors[i], label = labels[i])\n",
    "                          # this creates each of the arrows, not sure why need to assign to Q? works without!\n",
    "\n",
    "ax.legend(labels, loc='upper left')\n",
    "ax.set_xlim([-2, 2])\n",
    "ax.set_ylim([-2, 2])\n",
    "\n",
    "# spine adjustments\n",
    "ax = plt.gca()\n",
    "ax.spines['right'].set_color('none')\n",
    "ax.spines['top'].set_color('none')\n",
    "ax.xaxis.set_ticks_position('bottom')\n",
    "ax.spines['bottom'].set_position(('data', 0))\n",
    "ax.yaxis.set_ticks_position('left')\n",
    "ax.spines['left'].set_position(('data', 0))\n",
    "\n",
    "plt.show();"
   ]
  },
  {
   "cell_type": "markdown",
   "metadata": {},
   "source": [
    "1. (4) Define a new 3x3 matrix of the form $$\\textbf{A} = \\begin{bmatrix} -2 & -4 & 2 \\\\ -2 & 1 & 2 \\\\ 4 & 2 & 5 \\end{bmatrix}$$ and compute the eigenvalues and vectors.  What can you say about the number of eigenvectors in your results?\n",
    "1. (5) Define a new 3x3 matrix of the form $$\\textbf{B} = \\begin{bmatrix} -2 & -4 & 2 \\\\ -2 & 1 & 2 \\\\ 1 & 2 & -1 \\end{bmatrix}$$ and compute the eigenvalues and vectors.  What can you say about the eigenvalues in your results?  Do they differ from what you saw in part (4)?\n",
    "1. (6) Compute the inverse of $\\textbf{A}$ and $\\textbf{B}$ above.  Comment on your results.\n",
    "1. (7) Compute the determinant of $\\textbf{A}$ and $\\textbf{B}$.  How might your results relate to the eigen values you computed above?\n"
   ]
  },
  {
   "cell_type": "code",
   "execution_count": 67,
   "metadata": {},
   "outputs": [
    {
     "data": {
      "text/plain": [
       "(array([-5.,  3.,  6.]), matrix([[ 0.81649658,  0.53452248,  0.05842062],\n",
       "         [ 0.40824829, -0.80178373,  0.35052374],\n",
       "         [-0.40824829, -0.26726124,  0.93472998]]))"
      ]
     },
     "execution_count": 67,
     "metadata": {},
     "output_type": "execute_result"
    },
    {
     "data": {
      "text/plain": [
       "(array([ -5.00000000e+00,  -1.11455983e-16,   3.00000000e+00]),\n",
       " matrix([[  8.16496581e-01,   7.07106781e-01,  -5.34522484e-01],\n",
       "         [  4.08248290e-01,  -2.65739405e-17,   8.01783726e-01],\n",
       "         [ -4.08248290e-01,   7.07106781e-01,   2.67261242e-01]]))"
      ]
     },
     "execution_count": 67,
     "metadata": {},
     "output_type": "execute_result"
    },
    {
     "data": {
      "text/plain": [
       "matrix([[-0.01111111, -0.26666667,  0.11111111],\n",
       "        [-0.2       ,  0.2       , -0.        ],\n",
       "        [ 0.08888889,  0.13333333,  0.11111111]])"
      ]
     },
     "execution_count": 67,
     "metadata": {},
     "output_type": "execute_result"
    },
    {
     "data": {
      "text/plain": [
       "-90.0"
      ]
     },
     "execution_count": 67,
     "metadata": {},
     "output_type": "execute_result"
    },
    {
     "data": {
      "text/plain": [
       "0.0"
      ]
     },
     "execution_count": 67,
     "metadata": {},
     "output_type": "execute_result"
    }
   ],
   "source": [
    "A = np.matrix([[-2, -4, 2], [-2, 1, 2], [4, 2, 5]])\n",
    "LA.eig(A)\n",
    "B = np.matrix([[-2, -4, 2], [-2, 1, 2], [1, 2, -1]])\n",
    "LA.eig(B)\n",
    "LA.inv(A)\n",
    "#LA.inv(B) not invertible; singular matrix, related to 0 eigenvalue\n",
    "LA.det(A) # note that determinate is also equal to product of eigenvalues!!\n",
    "LA.det(B) # note the zero value of the determinate due to zero eigenvalue - singular matrix, not invertible"
   ]
  },
  {
   "cell_type": "markdown",
   "metadata": {},
   "source": [
    "1. (8) Consider the rotation matrix $$\\textbf{R} = \\begin{bmatrix} cos(\\theta) & sin(\\theta) \\\\ -sin(\\theta) & cos(\\theta)\\end{bmatrix}$$.  Using a value of $\\theta = 90$, compute the inner product of the columns, $\\textbf{R}^T$, $\\textbf{R}^{-1}$, $det(\\textbf{R})$, and the eigenvalues and eigenvectors.  Comment on your results."
   ]
  },
  {
   "cell_type": "code",
   "execution_count": 76,
   "metadata": {},
   "outputs": [
    {
     "data": {
      "text/plain": [
       "1.5707963267948966"
      ]
     },
     "execution_count": 76,
     "metadata": {},
     "output_type": "execute_result"
    },
    {
     "data": {
      "text/plain": [
       "matrix([[  6.12323400e-17,   1.00000000e+00],\n",
       "        [ -1.00000000e+00,   6.12323400e-17]])"
      ]
     },
     "execution_count": 76,
     "metadata": {},
     "output_type": "execute_result"
    },
    {
     "data": {
      "text/plain": [
       "0.0"
      ]
     },
     "execution_count": 76,
     "metadata": {},
     "output_type": "execute_result"
    },
    {
     "data": {
      "text/plain": [
       "matrix([[  6.12323400e-17,  -1.00000000e+00],\n",
       "        [  1.00000000e+00,   6.12323400e-17]])"
      ]
     },
     "execution_count": 76,
     "metadata": {},
     "output_type": "execute_result"
    },
    {
     "data": {
      "text/plain": [
       "matrix([[  6.12323400e-17,  -1.00000000e+00],\n",
       "        [  1.00000000e+00,   6.12323400e-17]])"
      ]
     },
     "execution_count": 76,
     "metadata": {},
     "output_type": "execute_result"
    },
    {
     "data": {
      "text/plain": [
       "1.0"
      ]
     },
     "execution_count": 76,
     "metadata": {},
     "output_type": "execute_result"
    },
    {
     "data": {
      "text/plain": [
       "(array([  6.12323400e-17+1.j,   6.12323400e-17-1.j]),\n",
       " matrix([[ 0.70710678+0.j        ,  0.70710678-0.j        ],\n",
       "         [ 0.00000000+0.70710678j,  0.00000000-0.70710678j]]))"
      ]
     },
     "execution_count": 76,
     "metadata": {},
     "output_type": "execute_result"
    }
   ],
   "source": [
    "theta = np.pi/2\n",
    "theta\n",
    "R = np.matrix([[np.cos(theta), np.sin(theta)], [-np.sin(theta), np.cos(theta)]])\n",
    "R\n",
    "np.dot(np.array([np.cos(theta), np.sin(theta)]), np.array([-np.sin(theta), np.cos(theta)]))\n",
    "R.T\n",
    "LA.inv(R)\n",
    "# notice that R^-1 = R^T - vectors are orthogonal; as also implied by inner dot product of the columns\n",
    "LA.det(R) # det = to 1 or -1 also implies othogonality and that eigenvalues/vectors are complex conjugates\n",
    "LA.eig(R)"
   ]
  },
  {
   "cell_type": "markdown",
   "metadata": {},
   "source": [
    "## Matrix Decomposition\n",
    "Matrix Decomposition can be thought of as rewriting a given matrix as a product of other (and often simpler) matrices.  For example, given a matrix $\\textbf{A}$, one can decompose $\\textbf{A}$ into the following. $$\\textbf{A} = \\textbf{Q} \\Lambda \\textbf{Q}^{-1}$$\n",
    "where $\\textbf{Q}$ is a matrix whose *$i^{th}$* column is the *$i^{th}$* eigenvector of $\\textbf{A}$, and $\\Lambda$ is a matrix containing all of the corresponding eigenvalues on the main diagonal.  Decomposing $\\textbf{A}$ in this manner is called an Eigendecomposition.  Such matrix decompositions, form the basis of many techniques in Data Science and other mathematical disciplines."
   ]
  },
  {
   "cell_type": "markdown",
   "metadata": {},
   "source": [
    "1. Compute the eigenvalues and eigenvectors of matrix $$\\textbf{A} = \\begin{bmatrix} -2 & -4 & 2 \\\\ -2 & 1 & 2 \\\\ 4 & 2 & 5 \\end{bmatrix}$$\n",
    "1. Construct a matrix $\\textbf{Q}$ whose columns are the eigenvectors of $\\textbf{A}$.\n",
    "1. Construct a set of three vectors $\\vec{\\lambda_1} \\dots \\vec{\\lambda_n}$, whose *$n^{th}$* element is the *$n^{th}$* eigenvalue of $\\textbf{A}$ while all other elements are 0.  The second vector, for example, would be $$\\vec{\\lambda_2} = \\begin{bmatrix} 0 \\\\ \\lambda_2 \\\\ 0 \\end{bmatrix}$$\n",
    "1. Now try multiplying various combinations of $\\textbf{A}$, $\\textbf{Q}$, and $\\vec{\\lambda_n}$ together.  What is the relationship among them?\n",
    "1. Solve the relationship you found in part (4) for $\\textbf{A}$ and verify that this is the eigenvalue decomposition.\n",
    "1. Another very useful matrix decomposition is the Singular Value Decomposition (SVD) which is used, for example, in Principal Component Analysis.  A full discussion of this decomposition is beyond the scope of this exercise, but singular values are the square roots of the eigenvalues of $\\textbf{A}\\textbf{A}^T$ (for the real case).  Using numpy, perform a SVD on $\\textbf{A}$ used above, and verify that the values on the main diagonal of the singular matrix are the square roots of the eigenvalues of $\\textbf{A}$."
   ]
  },
  {
   "cell_type": "code",
   "execution_count": null,
   "metadata": {
    "collapsed": true
   },
   "outputs": [],
   "source": []
  },
  {
   "cell_type": "code",
   "execution_count": null,
   "metadata": {
    "collapsed": true
   },
   "outputs": [],
   "source": []
  },
  {
   "cell_type": "code",
   "execution_count": null,
   "metadata": {
    "collapsed": true
   },
   "outputs": [],
   "source": []
  },
  {
   "cell_type": "code",
   "execution_count": null,
   "metadata": {
    "collapsed": true
   },
   "outputs": [],
   "source": []
  },
  {
   "cell_type": "code",
   "execution_count": null,
   "metadata": {
    "collapsed": true
   },
   "outputs": [],
   "source": []
  }
 ],
 "metadata": {
  "anaconda-cloud": {},
  "kernelspec": {
   "display_name": "Python 3",
   "language": "python",
   "name": "python3"
  },
  "language_info": {
   "codemirror_mode": {
    "name": "ipython",
    "version": 3
   },
   "file_extension": ".py",
   "mimetype": "text/x-python",
   "name": "python",
   "nbconvert_exporter": "python",
   "pygments_lexer": "ipython3",
   "version": "3.6.3"
  }
 },
 "nbformat": 4,
 "nbformat_minor": 2
}
