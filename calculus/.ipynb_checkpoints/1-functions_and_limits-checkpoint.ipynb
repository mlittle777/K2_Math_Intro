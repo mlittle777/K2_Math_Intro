{
 "cells": [
  {
   "cell_type": "markdown",
   "metadata": {},
   "source": [
    "#  SOLVING CALCULUS PROBLEMS\n",
    "## Functions and Limits"
   ]
  },
  {
   "cell_type": "code",
   "execution_count": 1,
   "metadata": {
    "collapsed": true
   },
   "outputs": [],
   "source": [
    "import numpy as np\n",
    "\n",
    "import matplotlib.pyplot as plt\n",
    "%matplotlib inline"
   ]
  },
  {
   "cell_type": "markdown",
   "metadata": {},
   "source": [
    "##  What Is a Function?"
   ]
  },
  {
   "cell_type": "markdown",
   "metadata": {},
   "source": [
    "Let’s start out with some basic definitions. A function is a mapping between an input set and an output set. The special condition of a function is that an element of the input set is related to exactly one element of the output set. For example, Figure 1-1 shows two sets such that an element of the output set is the square of an element that belongs to the input set."
   ]
  },
  {
   "cell_type": "markdown",
   "metadata": {},
   "source": [
    "<img src='function_map.png', style='width:350px' />\n",
    "\n",
    "*Figure 1-1: A function describes a mapping between an input set and an output set. Here, an element of the output set is the square of an element from the input set.*"
   ]
  },
  {
   "cell_type": "markdown",
   "metadata": {},
   "source": [
    "Using the familiar function notation, we’d write this function as $f(x) = x^2$, where $x$ is the independent variable quantity. So $f(2) = 4$, &nbsp; $f(100) = 10000$, and so on. We refer to $x$ as the independent variable quantity because we’re free to assume a value for it as long as that value is within its domain (see the next section).\n",
    "\n",
    "Functions can also be defined in terms of multiple variables. For example, $f(x, y) = x^2 + y^2$ defines a function of two variables, $x$ and $y$."
   ]
  },
  {
   "cell_type": "markdown",
   "metadata": {},
   "source": [
    "### *Domain and Range of a Function*"
   ]
  },
  {
   "cell_type": "markdown",
   "metadata": {},
   "source": [
    "The *domain* of a function is the set of input values that the independent variable can validly assume. The output set of a function is called the *range*.\n",
    "For example, the domain of the function $f(x) = 1/x$ is all nonzero real and complex numbers because $1/0$ isn’t defined. The range is formed by the set of values obtained by substituting each number in the domain into $1/x$, so in this case it is also all nonzero real and complex numbers."
   ]
  },
  {
   "cell_type": "markdown",
   "metadata": {},
   "source": [
    "**NOTE**\n",
    "*The domain and range of a function can certainly be different. For example, for the function $x^2$, the domain is all positive and negative numbers, but the range is only the positive numbers.*"
   ]
  },
  {
   "cell_type": "markdown",
   "metadata": {},
   "source": [
    "### *An Overview of Common Mathematical Functions*"
   ]
  },
  {
   "cell_type": "markdown",
   "metadata": {},
   "source": [
    "We’ve already used a number of common mathematical functions from the Python standard library’s *math* module. A couple of familiar examples are the *sin( )* and *cos( )* functions, which correspond to the trigonometric functions sine and cosine. Other trigonometric functions &mdash; *tan( )* and the inverse equivalents of these functions, *asin( )*, *acos( )*, and *atan( )* &mdash; are also defined.\n",
    "\n",
    "The `math` module also includes functions that find the logarithm of a number—the natural logarithm function `log()`, the base-2 logarithm `log2()`, and the base-10 logarithm `log10()`—as well as the function `exp()`, which finds the value of $e^x$, where $e$ is Euler’s number (approximately 2.71828).\n",
    "\n",
    "One drawback of all these functions is that they’re not suitable for working with symbolic expressions. If we want to manipulate a mathematical expression involving symbols, we have to start using the equivalent functions defined by SymPy.\n",
    "\n",
    "Let’s see a quick example:"
   ]
  },
  {
   "cell_type": "code",
   "execution_count": 2,
   "metadata": {},
   "outputs": [
    {
     "data": {
      "text/plain": [
       "1.0"
      ]
     },
     "execution_count": 2,
     "metadata": {},
     "output_type": "execute_result"
    }
   ],
   "source": [
    "import math\n",
    "math.sin(math.pi/2)"
   ]
  },
  {
   "cell_type": "markdown",
   "metadata": {},
   "source": [
    "Here, we find the sine of the angle π/2 using the `sin()` function defined by the standard library’s `math` module. Then, we can do the same using SymPy."
   ]
  },
  {
   "cell_type": "code",
   "execution_count": 3,
   "metadata": {},
   "outputs": [
    {
     "data": {
      "text/plain": [
       "1.00000000000000"
      ]
     },
     "execution_count": 3,
     "metadata": {},
     "output_type": "execute_result"
    }
   ],
   "source": [
    "import sympy\n",
    "sympy.sin(math.pi/2)"
   ]
  },
  {
   "cell_type": "markdown",
   "metadata": {},
   "source": [
    "Similar to the standard library’s `sin()` function, SymPy’s `sin()` function expects the angle to be expressed in radians. Both functions return 1.\n",
    "Now, let’s try to call each function with a symbol instead and see what happens:"
   ]
  },
  {
   "cell_type": "code",
   "execution_count": 4,
   "metadata": {},
   "outputs": [
    {
     "ename": "TypeError",
     "evalue": "can't convert expression to float",
     "output_type": "error",
     "traceback": [
      "\u001b[0;31m---------------------------------------------------------------------------\u001b[0m",
      "\u001b[0;31mTypeError\u001b[0m                                 Traceback (most recent call last)",
      "\u001b[0;32m<ipython-input-4-ba6ccafa9143>\u001b[0m in \u001b[0;36m<module>\u001b[0;34m()\u001b[0m\n\u001b[1;32m      1\u001b[0m \u001b[0;32mfrom\u001b[0m \u001b[0msympy\u001b[0m \u001b[0;32mimport\u001b[0m \u001b[0mSymbol\u001b[0m\u001b[0;34m\u001b[0m\u001b[0m\n\u001b[1;32m      2\u001b[0m \u001b[0mtheta\u001b[0m \u001b[0;34m=\u001b[0m \u001b[0mSymbol\u001b[0m\u001b[0;34m(\u001b[0m\u001b[0;34m'theta'\u001b[0m\u001b[0;34m)\u001b[0m\u001b[0;34m\u001b[0m\u001b[0m\n\u001b[0;32m----> 3\u001b[0;31m \u001b[0mmath\u001b[0m\u001b[0;34m.\u001b[0m\u001b[0msin\u001b[0m\u001b[0;34m(\u001b[0m\u001b[0mtheta\u001b[0m\u001b[0;34m)\u001b[0m \u001b[0;34m+\u001b[0m \u001b[0mmath\u001b[0m\u001b[0;34m.\u001b[0m\u001b[0msin\u001b[0m\u001b[0;34m(\u001b[0m\u001b[0mtheta\u001b[0m\u001b[0;34m)\u001b[0m \u001b[0;31m#1\u001b[0m\u001b[0;34m\u001b[0m\u001b[0m\n\u001b[0m",
      "\u001b[0;32m~/anaconda3/lib/python3.6/site-packages/sympy/core/expr.py\u001b[0m in \u001b[0;36m__float__\u001b[0;34m(self)\u001b[0m\n\u001b[1;32m    237\u001b[0m         \u001b[0;32mif\u001b[0m \u001b[0mresult\u001b[0m\u001b[0;34m.\u001b[0m\u001b[0mis_number\u001b[0m \u001b[0;32mand\u001b[0m \u001b[0mresult\u001b[0m\u001b[0;34m.\u001b[0m\u001b[0mas_real_imag\u001b[0m\u001b[0;34m(\u001b[0m\u001b[0;34m)\u001b[0m\u001b[0;34m[\u001b[0m\u001b[0;36m1\u001b[0m\u001b[0;34m]\u001b[0m\u001b[0;34m:\u001b[0m\u001b[0;34m\u001b[0m\u001b[0m\n\u001b[1;32m    238\u001b[0m             \u001b[0;32mraise\u001b[0m \u001b[0mTypeError\u001b[0m\u001b[0;34m(\u001b[0m\u001b[0;34m\"can't convert complex to float\"\u001b[0m\u001b[0;34m)\u001b[0m\u001b[0;34m\u001b[0m\u001b[0m\n\u001b[0;32m--> 239\u001b[0;31m         \u001b[0;32mraise\u001b[0m \u001b[0mTypeError\u001b[0m\u001b[0;34m(\u001b[0m\u001b[0;34m\"can't convert expression to float\"\u001b[0m\u001b[0;34m)\u001b[0m\u001b[0;34m\u001b[0m\u001b[0m\n\u001b[0m\u001b[1;32m    240\u001b[0m \u001b[0;34m\u001b[0m\u001b[0m\n\u001b[1;32m    241\u001b[0m     \u001b[0;32mdef\u001b[0m \u001b[0m__complex__\u001b[0m\u001b[0;34m(\u001b[0m\u001b[0mself\u001b[0m\u001b[0;34m)\u001b[0m\u001b[0;34m:\u001b[0m\u001b[0;34m\u001b[0m\u001b[0m\n",
      "\u001b[0;31mTypeError\u001b[0m: can't convert expression to float"
     ]
    }
   ],
   "source": [
    "from sympy import Symbol\n",
    "theta = Symbol('theta')\n",
    "math.sin(theta) + math.sin(theta) #1"
   ]
  },
  {
   "cell_type": "code",
   "execution_count": 5,
   "metadata": {},
   "outputs": [
    {
     "data": {
      "text/plain": [
       "2*sin(theta)"
      ]
     },
     "execution_count": 5,
     "metadata": {},
     "output_type": "execute_result"
    }
   ],
   "source": [
    "sympy.sin(theta) + sympy.sin(theta) #2"
   ]
  },
  {
   "cell_type": "markdown",
   "metadata": {},
   "source": [
    "The standard library’s `sin()` function doesn’t know what to do when we call it with theta at (1), so it raises an exception to indicate that it’s expecting a numerical value as an argument to the `sin()` function. On the other hand, SymPy is able to perform the same operation at (2), and it returns the expression `2*sin(theta)` as the result. This is hardly surprising to us now, but it illustrates the kinds of tasks where the standard library’s mathematical functions can fall short.\n",
    "\n",
    "Let’s consider another example. Say we want to derive the expression for the time it takes for a body in projectile motion to reach the highest point if it’s thrown with initial velocity `u` at an angle `theta`.\n",
    "At the highest point, `u*sin(theta)-g*t = 0`, so to find `t`, we’ll use the `solve()` function:"
   ]
  },
  {
   "cell_type": "code",
   "execution_count": 6,
   "metadata": {},
   "outputs": [
    {
     "data": {
      "text/plain": [
       "[u*sin(theta)/g]"
      ]
     },
     "execution_count": 6,
     "metadata": {},
     "output_type": "execute_result"
    }
   ],
   "source": [
    "from sympy import sin, solve, Symbol\n",
    "u = Symbol('u')\n",
    "t = Symbol('t')\n",
    "g = Symbol('g')\n",
    "theta = Symbol('theta')\n",
    "solve(u*sin(theta)-g*t, t)"
   ]
  },
  {
   "cell_type": "markdown",
   "metadata": {},
   "source": [
    "The expression for `t`, as we learned earlier, turns out to be `u*sin(theta)/g`, and it illustrates how the `solve()` function can be used to find solutions to equations containing mathematical functions as well."
   ]
  },
  {
   "cell_type": "markdown",
   "metadata": {},
   "source": [
    "## Assumptions in SymPy"
   ]
  },
  {
   "cell_type": "markdown",
   "metadata": {},
   "source": [
    "In all our programs, we’ve created a `Symbol` object in SymPy, defining the variable like so: `x = Symbol('x')`. Assume that as a result of an operation you asked SymPy to perform, SymPy needs to check whether the expression\n",
    "$x + 5$ is greater than $0$. Let’s see what would happen:"
   ]
  },
  {
   "cell_type": "code",
   "execution_count": 7,
   "metadata": {},
   "outputs": [
    {
     "ename": "TypeError",
     "evalue": "cannot determine truth value of Relational",
     "output_type": "error",
     "traceback": [
      "\u001b[0;31m---------------------------------------------------------------------------\u001b[0m",
      "\u001b[0;31mTypeError\u001b[0m                                 Traceback (most recent call last)",
      "\u001b[0;32m<ipython-input-7-76023fc811b5>\u001b[0m in \u001b[0;36m<module>\u001b[0;34m()\u001b[0m\n\u001b[1;32m      1\u001b[0m \u001b[0;32mfrom\u001b[0m \u001b[0msympy\u001b[0m \u001b[0;32mimport\u001b[0m \u001b[0mSymbol\u001b[0m\u001b[0;34m\u001b[0m\u001b[0m\n\u001b[1;32m      2\u001b[0m \u001b[0mx\u001b[0m \u001b[0;34m=\u001b[0m \u001b[0mSymbol\u001b[0m\u001b[0;34m(\u001b[0m\u001b[0;34m'x'\u001b[0m\u001b[0;34m)\u001b[0m\u001b[0;34m\u001b[0m\u001b[0m\n\u001b[0;32m----> 3\u001b[0;31m \u001b[0;32mif\u001b[0m \u001b[0;34m(\u001b[0m\u001b[0mx\u001b[0m\u001b[0;34m+\u001b[0m\u001b[0;36m5\u001b[0m\u001b[0;34m)\u001b[0m \u001b[0;34m>\u001b[0m \u001b[0;36m0\u001b[0m\u001b[0;34m:\u001b[0m\u001b[0;34m\u001b[0m\u001b[0m\n\u001b[0m\u001b[1;32m      4\u001b[0m      \u001b[0mprint\u001b[0m\u001b[0;34m(\u001b[0m\u001b[0;34m'Do Something'\u001b[0m\u001b[0;34m)\u001b[0m\u001b[0;34m\u001b[0m\u001b[0m\n\u001b[1;32m      5\u001b[0m \u001b[0;32melse\u001b[0m\u001b[0;34m:\u001b[0m\u001b[0;34m\u001b[0m\u001b[0m\n",
      "\u001b[0;32m~/anaconda3/lib/python3.6/site-packages/sympy/core/relational.py\u001b[0m in \u001b[0;36m__nonzero__\u001b[0;34m(self)\u001b[0m\n\u001b[1;32m    193\u001b[0m \u001b[0;34m\u001b[0m\u001b[0m\n\u001b[1;32m    194\u001b[0m     \u001b[0;32mdef\u001b[0m \u001b[0m__nonzero__\u001b[0m\u001b[0;34m(\u001b[0m\u001b[0mself\u001b[0m\u001b[0;34m)\u001b[0m\u001b[0;34m:\u001b[0m\u001b[0;34m\u001b[0m\u001b[0m\n\u001b[0;32m--> 195\u001b[0;31m         \u001b[0;32mraise\u001b[0m \u001b[0mTypeError\u001b[0m\u001b[0;34m(\u001b[0m\u001b[0;34m\"cannot determine truth value of Relational\"\u001b[0m\u001b[0;34m)\u001b[0m\u001b[0;34m\u001b[0m\u001b[0m\n\u001b[0m\u001b[1;32m    196\u001b[0m \u001b[0;34m\u001b[0m\u001b[0m\n\u001b[1;32m    197\u001b[0m     \u001b[0m__bool__\u001b[0m \u001b[0;34m=\u001b[0m \u001b[0m__nonzero__\u001b[0m\u001b[0;34m\u001b[0m\u001b[0m\n",
      "\u001b[0;31mTypeError\u001b[0m: cannot determine truth value of Relational"
     ]
    }
   ],
   "source": [
    "from sympy import Symbol\n",
    "x = Symbol('x')\n",
    "if (x+5) > 0:\n",
    "     print('Do Something')\n",
    "else:\n",
    "     print('Do Something else')"
   ]
  },
  {
   "cell_type": "markdown",
   "metadata": {},
   "source": [
    "Because SymPy doesn’t know anything about the sign of $x$, it can’t deduce whether $x + 5$ is greater than $0$, so it displays an error. But basic math tells us that if $x$ is positive, $x + 5$ will always be positive, and if $x$ is negative, it will be positive only in certain cases.\n",
    "So if we create a `Symbol` object specifying `positive=True`, we tell SymPy to assume only positive values. Now it knows for sure that $x + 5$ is definitely greater than $0$:"
   ]
  },
  {
   "cell_type": "code",
   "execution_count": 8,
   "metadata": {},
   "outputs": [
    {
     "name": "stdout",
     "output_type": "stream",
     "text": [
      "Do Something\n"
     ]
    }
   ],
   "source": [
    "x = Symbol('x', positive=True)\n",
    "if (x+5) > 0:\n",
    "     print('Do Something')\n",
    "else:\n",
    "     print('Do Something else')"
   ]
  },
  {
   "cell_type": "markdown",
   "metadata": {},
   "source": [
    "Note that if we’d instead specified `negative=True`, we could get the same error as in the first case. Just as we can declare a symbol as positive and `negative`, it’s also possible to specify it as `real, integer, complex, imaginary`, and so on. These declarations are referred to as *assumptions* in SymPy."
   ]
  },
  {
   "cell_type": "markdown",
   "metadata": {},
   "source": [
    "## Finding the Limit of Functions"
   ]
  },
  {
   "cell_type": "markdown",
   "metadata": {},
   "source": [
    "A common task in calculus is finding the *limiting value* (or simply the *limit*) of the function, when the variable’s value is assumed to approach a certain value. Consider a function $f(x) = 1/x$, whose graph is shown in Figure 1-2.\n",
    "As the value of $x$ increases, the value of $f(x)$ approaches $0$. Using the limit notation, we’d write this as\n",
    "$$\\lim_{x\\to\\infty} \\frac{1}{x} = 0$$"
   ]
  },
  {
   "cell_type": "code",
   "execution_count": 8,
   "metadata": {},
   "outputs": [
    {
     "data": {
      "image/png": "[encoded data removed]",
      "text/plain": [
       "<matplotlib.figure.Figure at 0x7fa813db3a90>"
      ]
     },
     "metadata": {},
     "output_type": "display_data"
    }
   ],
   "source": [
    "# plot 1/x\n",
    "x = np.arange(10,1000,1/1000)\n",
    "y = 1/x\n",
    "plt.plot(x,y);"
   ]
  },
  {
   "cell_type": "markdown",
   "metadata": {},
   "source": [
    "*Figure 1-2: A graph showing the function 1/x as the value of x increases*"
   ]
  },
  {
   "cell_type": "markdown",
   "metadata": {},
   "source": [
    "We can find limits of functions in SymPy by creating objects of the `Limit` class as follows:"
   ]
  },
  {
   "cell_type": "code",
   "execution_count": 9,
   "metadata": {},
   "outputs": [
    {
     "data": {
      "text/plain": [
       "Limit(1/x, x, oo, dir='-')"
      ]
     },
     "execution_count": 9,
     "metadata": {},
     "output_type": "execute_result"
    }
   ],
   "source": [
    "from sympy import Limit, Symbol, S #1\n",
    "x = Symbol('x') #2\n",
    "Limit(1/x, x, S.Infinity) #3"
   ]
  },
  {
   "cell_type": "markdown",
   "metadata": {},
   "source": [
    "At (1), we import the Limit and `Symbol` classes, as well as `S`, which is a special SymPy class that contains the definition of infinity (positive and negative) and other special values.  Then at (2) we create a symbol object, `x`, to represent $x$. We create the Limit object at (3), passing it three arguments: `1/x`, the variable `x`, and finally the value at which we want to calculate the function’s limit (infinity, given by `S.Infinity`).\n",
    "The result is returned as an *unevaluated* object with the `oo` symbol denoting positive infinity and the `dir='-'` symbol specifying that we are approaching the limit from the negative side.\n",
    "To find the value of the limit, we use the `doit()` method:"
   ]
  },
  {
   "cell_type": "code",
   "execution_count": 10,
   "metadata": {},
   "outputs": [
    {
     "data": {
      "text/plain": [
       "0"
      ]
     },
     "execution_count": 10,
     "metadata": {},
     "output_type": "execute_result"
    }
   ],
   "source": [
    "l = Limit(1/x, x, S.Infinity)\n",
    "l.doit()"
   ]
  },
  {
   "cell_type": "markdown",
   "metadata": {},
   "source": [
    "By default, the limit is found from a positive direction, unless the value at which the limit is to be calculated is positive or negative infinity. In the case of positive infinity, the direction is negative, and vice versa. You can change the default direction as follows:"
   ]
  },
  {
   "cell_type": "code",
   "execution_count": 11,
   "metadata": {},
   "outputs": [
    {
     "data": {
      "text/plain": [
       "-oo"
      ]
     },
     "execution_count": 11,
     "metadata": {},
     "output_type": "execute_result"
    }
   ],
   "source": [
    "Limit(1/x, x, 0, dir='-').doit()"
   ]
  },
  {
   "cell_type": "markdown",
   "metadata": {},
   "source": [
    "Here, we calculate $$\\lim_{x\\to0} \\frac{1}{x},$$"
   ]
  },
  {
   "cell_type": "markdown",
   "metadata": {},
   "source": [
    "and as we approach 0 for x from the negative side, the value of the limit approaches negative infinity. On the other hand, if we approach 0 from the positive side, the value approaches positive infinity:"
   ]
  },
  {
   "cell_type": "code",
   "execution_count": 12,
   "metadata": {},
   "outputs": [
    {
     "data": {
      "text/plain": [
       "oo"
      ]
     },
     "execution_count": 12,
     "metadata": {},
     "output_type": "execute_result"
    }
   ],
   "source": [
    "Limit(1/x, x, 0, dir='+').doit()"
   ]
  },
  {
   "cell_type": "markdown",
   "metadata": {},
   "source": [
    "The `Limit` class also handles functions with limits of indeterminate forms, $$\\left(\\frac{0}{0},\\frac{inf}{inf}\\right)$$ automatically:"
   ]
  },
  {
   "cell_type": "code",
   "execution_count": 13,
   "metadata": {},
   "outputs": [
    {
     "data": {
      "text/plain": [
       "1"
      ]
     },
     "execution_count": 13,
     "metadata": {},
     "output_type": "execute_result"
    }
   ],
   "source": [
    "from sympy import Symbol, sin\n",
    "Limit(sin(x)/x, x, 0).doit()"
   ]
  },
  {
   "cell_type": "markdown",
   "metadata": {},
   "source": [
    "You have very likely used l’Hopital’s rule to find such limits, but as we see here, the `Limit` class takes care of this for us."
   ]
  },
  {
   "cell_type": "markdown",
   "metadata": {},
   "source": [
    "### *Continuous Compound Interest*"
   ]
  },
  {
   "cell_type": "markdown",
   "metadata": {},
   "source": [
    "Say you’ve deposited \\$1 in a bank. This deposit is the *principal*, which pays you *interest* &mdash; in this case, interest of 100 percent that compounds `n` times yearly for 1 year. The amount you’ll get at the end of 1 year is given by $$A = \\left(1+\\frac{1}{n}\\right)^n.$$ \n",
    "\n",
    "The prominent mathematician James Bernoulli discovered that as the value of $n$ increases, the term $(1 + 1/n)^n$ approaches the value of $e$—the constant that we can verify by finding the limit of the function:"
   ]
  },
  {
   "cell_type": "code",
   "execution_count": 14,
   "metadata": {},
   "outputs": [
    {
     "data": {
      "text/plain": [
       "E"
      ]
     },
     "execution_count": 14,
     "metadata": {},
     "output_type": "execute_result"
    }
   ],
   "source": [
    "from sympy import Limit, Symbol, S\n",
    "n = Symbol('n')\n",
    "Limit((1+1/n)**n, n, S.Infinity).doit()"
   ]
  },
  {
   "cell_type": "markdown",
   "metadata": {},
   "source": [
    "For any principal amount $p$, any rate $r$, and any number of years $t$, the compound interest is calculated using the formula \n",
    "\n",
    "$$A = P\\left(1+\\frac{r}{n}\\right)^{nt}.$$\n",
    "\n",
    "Assuming continuous compounding interest, we can find the expression for $A$ as follows:"
   ]
  },
  {
   "cell_type": "code",
   "execution_count": 15,
   "metadata": {},
   "outputs": [
    {
     "data": {
      "text/plain": [
       "p*exp(r*t)"
      ]
     },
     "execution_count": 15,
     "metadata": {},
     "output_type": "execute_result"
    }
   ],
   "source": [
    "from sympy import Symbol, Limit, S \n",
    "p = Symbol('p', positive=True)\n",
    "r = Symbol('r', positive=True)\n",
    "t = Symbol('t', positive=True)\n",
    "Limit(p*(1+r/n)**(n*t), n, S.Infinity).doit()"
   ]
  },
  {
   "cell_type": "markdown",
   "metadata": {},
   "source": [
    "We create three symbol objects, representing the principal amount, $p$, the rate of interest, $r$, and the number of years, $t$. We also tell SymPy that these symbols will assume positive values by passing the `positive=True` keyword argument while creating the `Symbol` objects. If we don’t specify, SymPy doesn’t know anything about the numerical values the symbol can assume and may not be able to evaluate the limit correctly. We then feed in the expression for the compound interest to create the `Limit` object and evaluate it using the `doit()` method. The limit turns out to be `p*exp(r*t)`, which tells us that the compound interest grows exponentially with time for the fixed rate of interest."
   ]
  },
  {
   "cell_type": "markdown",
   "metadata": {},
   "source": [
    "### *Instantaneous Rate of Change*"
   ]
  },
  {
   "cell_type": "markdown",
   "metadata": {},
   "source": [
    "Consider a car moving along a road. It accelerates uniformly such that the distance traveled, $S$, is given by the function\n",
    "\n",
    "$$S(t) = 5t^2 + 2t + 8.$$\n",
    "\n",
    "In this function, the independent variable is $t$, which represents the time elapsed since the car started moving.\n",
    "If we measure the distance traveled in time $t_1$ and time $t_2$ such that $t_2 > t_1$, then we can calculate the distance moved by the car in 1 unit of time using the expression\n",
    "\n",
    "$$\\frac{S(t_2) - S(t_1)}{t_2-t_1}$$\n",
    "\n",
    "This is also referred to as the average rate of change of the function $S(t)$ with respect to the variable $t$, or in other words, the average speed. If we write $t_2$ as $t_1 + \\delta_t$—where $\\delta_t$ is the difference between $t_2$ and $t_1$ in units of time—we can rewrite the expression for the average speed as\n",
    "\n",
    "$$\\frac{S(t_1 + \\delta_t) - S(t_1)}{\\delta_t}$$\n",
    "\n",
    "This expression is also a function with t1 as the variable. Now, if we further assume δt to be really small, such that it approaches 0, we can use limit notation to write this as\n",
    "\n",
    "$$\\lim_{\\delta_t\\to0}\\frac{S(t_1 + \\delta_t) - S(t_1)}{\\delta_t}$$\n",
    "\n",
    "We will now evaluate the above limit. First, let’s create the various expression objects:"
   ]
  },
  {
   "cell_type": "code",
   "execution_count": 16,
   "metadata": {
    "collapsed": true
   },
   "outputs": [],
   "source": [
    "from sympy import Symbol, Limit\n",
    "t = Symbol('t')\n",
    "St = 5*t**2 + 2*t + 8 #1\n",
    "t1 = Symbol('t1')\n",
    "delta_t = Symbol('delta_t')\n",
    "St1 = St.subs({t: t1}) #2\n",
    "St1_delta = St.subs({t: t1 + delta_t}) #3"
   ]
  },
  {
   "cell_type": "markdown",
   "metadata": {},
   "source": [
    "We first define the function#S(t)# at (1). Then, we define two symbols, `t_1` and `delta_t`, which correspond to $t_1$ and $\\delta_t$. Using the `subs()` method, we then find S(t1) and $S(t_1 + \\delta_t)$ by substituting in the value of `t` for `t1` and `t1_delta_t` at (2) and (3), respectively.\n",
    "\n",
    "Now, let’s evaluate the limit:"
   ]
  },
  {
   "cell_type": "code",
   "execution_count": 17,
   "metadata": {},
   "outputs": [
    {
     "data": {
      "text/plain": [
       "10*t1 + 2"
      ]
     },
     "execution_count": 17,
     "metadata": {},
     "output_type": "execute_result"
    }
   ],
   "source": [
    "Limit((St1_delta-St1)/delta_t, delta_t, 0).doit()"
   ]
  },
  {
   "cell_type": "markdown",
   "metadata": {},
   "source": [
    "The limit turns out to be `10*t1 + 2`, and it’s the rate of change of $S(t)$ at time `t1`, or the instantaneous rate of change. This change is more commonly referred to as the *instantaneous speed* of the car at the time instant `t1`.\n",
    "\n",
    "The limit we calculated here is referred to as the *derivative* of a function, and we can calculate it directly using SymPy’s Derivative class."
   ]
  },
  {
   "cell_type": "markdown",
   "metadata": {},
   "source": [
    "# Programming Challenges"
   ]
  },
  {
   "cell_type": "markdown",
   "metadata": {},
   "source": [
    "The following challenges build on what you’ve learned in this notebook. You cand find sample solutions in the solutions notebook."
   ]
  },
  {
   "cell_type": "markdown",
   "metadata": {},
   "source": [
    "## #1: Verify the Continuity of a Function at a Point"
   ]
  },
  {
   "cell_type": "markdown",
   "metadata": {},
   "source": [
    "A necessary, but not sufficient, condition for a function to be differentiable at a point is that it must be continuous at that point. That is, the function must be defined at that point and its left-hand limit and right-hand limit must exist and be equal to the value of the function at that point. If $f(x)$ is the function and $x = a$ is the point we are interested in evaluating, this is mathematically stated as\n",
    "\n",
    "$$\\lim_{x\\to a^+}f(x) = \\lim_{x\\to a^-}f(x) = f(a)$$\n",
    "\n",
    "Your challenge here is to write a program that will (1) accept a single-variable function and a value of that variable as inputs and (2) check whether the input function is continuous at the point where the variable assumes the value input.\n",
    "\n",
    "Here is a sample working of the completed solution:"
   ]
  },
  {
   "cell_type": "markdown",
   "metadata": {},
   "source": [
    "`Enter a function in one variable: 1/x\n",
    "Enter the variable: x\n",
    "Enter the point to check the continuity at: 1 \n",
    "1/x is continuous at 1.0`"
   ]
  },
  {
   "cell_type": "markdown",
   "metadata": {},
   "source": [
    "The function $1/x$ is discontinuous at 0, so let’s check that:"
   ]
  },
  {
   "cell_type": "markdown",
   "metadata": {},
   "source": [
    "`Enter a function in one variable: 1/x\n",
    "Enter the variable: x\n",
    "Enter the point to check the continuity at: 0 \n",
    "\n",
    "/x is not continuous at 0.0`"
   ]
  },
  {
   "cell_type": "code",
   "execution_count": 20,
   "metadata": {},
   "outputs": [
    {
     "data": {
      "text/plain": [
       "1"
      ]
     },
     "execution_count": 20,
     "metadata": {},
     "output_type": "execute_result"
    },
    {
     "data": {
      "text/plain": [
       "1"
      ]
     },
     "execution_count": 20,
     "metadata": {},
     "output_type": "execute_result"
    },
    {
     "data": {
      "text/plain": [
       "1"
      ]
     },
     "execution_count": 20,
     "metadata": {},
     "output_type": "execute_result"
    },
    {
     "data": {
      "text/plain": [
       "True"
      ]
     },
     "execution_count": 20,
     "metadata": {},
     "output_type": "execute_result"
    },
    {
     "data": {
      "text/plain": [
       "zoo"
      ]
     },
     "execution_count": 20,
     "metadata": {},
     "output_type": "execute_result"
    },
    {
     "data": {
      "text/plain": [
       "oo"
      ]
     },
     "execution_count": 20,
     "metadata": {},
     "output_type": "execute_result"
    },
    {
     "data": {
      "text/plain": [
       "-oo"
      ]
     },
     "execution_count": 20,
     "metadata": {},
     "output_type": "execute_result"
    },
    {
     "data": {
      "text/plain": [
       "False"
      ]
     },
     "execution_count": 20,
     "metadata": {},
     "output_type": "execute_result"
    }
   ],
   "source": [
    "from sympy import Symbol, Limit\n",
    "x = Symbol('x')\n",
    "fx = 1 / x\n",
    "f1plus = Limit(1/x, x, 1, dir='+').doit()\n",
    "f1minus = Limit(1/x, x, 1, dir='-').doit()\n",
    "f1 = fx.subs({x: 1})\n",
    "f1\n",
    "f1plus\n",
    "f1minus\n",
    "f1 == f1plus == f1minus\n",
    "\n",
    "f0plus = Limit(1/x, x, 0, dir='+').doit()\n",
    "f0minus = Limit(1/x, x, 0, dir='-').doit()\n",
    "f0 = fx.subs({x: 0})\n",
    "f0\n",
    "f0plus\n",
    "f0minus\n",
    "f0 == f0plus == f0minus\n"
   ]
  },
  {
   "cell_type": "code",
   "execution_count": null,
   "metadata": {
    "collapsed": true
   },
   "outputs": [],
   "source": []
  }
 ],
 "metadata": {
  "anaconda-cloud": {},
  "kernelspec": {
   "display_name": "Python 3",
   "language": "python",
   "name": "python3"
  },
  "language_info": {
   "codemirror_mode": {
    "name": "ipython",
    "version": 3
   },
   "file_extension": ".py",
   "mimetype": "text/x-python",
   "name": "python",
   "nbconvert_exporter": "python",
   "pygments_lexer": "ipython3",
   "version": "3.6.3"
  }
 },
 "nbformat": 4,
 "nbformat_minor": 2
}
